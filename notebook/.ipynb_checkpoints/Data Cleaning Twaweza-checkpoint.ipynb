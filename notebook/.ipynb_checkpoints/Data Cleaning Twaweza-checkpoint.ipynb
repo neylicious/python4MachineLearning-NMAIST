{
 "cells": [
  {
   "cell_type": "code",
   "execution_count": 4,
   "metadata": {
    "collapsed": true
   },
   "outputs": [],
   "source": [
    "# We first import all neccesary libraries\n",
    "import numpy as np\n",
    "import pandas as pd\n",
    "import matplotlib.pyplot as plt\n",
    "import seaborn as sn\n",
    "from pylab import rcParams\n",
    "%matplotlib inline\n",
    "np.set_printoptions(precision=3)"
   ]
  },
  {
   "cell_type": "markdown",
   "metadata": {},
   "source": [
    "#### Load data-set"
   ]
  },
  {
   "cell_type": "code",
   "execution_count": 5,
   "metadata": {
    "collapsed": true
   },
   "outputs": [],
   "source": [
    "data = pd.read_csv(\"mduma.csv\",  encoding='cp1252')"
   ]
  },
  {
   "cell_type": "markdown",
   "metadata": {},
   "source": [
    "### Let observe the column available in our data-set"
   ]
  },
  {
   "cell_type": "code",
   "execution_count": 6,
   "metadata": {},
   "outputs": [
    {
     "data": {
      "text/plain": [
       "Index(['id_districtname', 'id_regionname', 'id_village', 'villmtaaname',\n",
       "       'hh_size', 'mealsperday', 'Student_age', 'Dropout',\n",
       "       'SchoolhasGirlsroom', 'PTR', 'PCR', 'GPLR', 'BPLR', 'PTMR',\n",
       "       'Student_readbookwithparent', 'Parentteacherdiscussion',\n",
       "       'ParentCheckChildbook', 'EA_area', 'Studentsex', 'Income__source'],\n",
       "      dtype='object')"
      ]
     },
     "execution_count": 6,
     "metadata": {},
     "output_type": "execute_result"
    }
   ],
   "source": [
    "data.columns"
   ]
  },
  {
   "cell_type": "markdown",
   "metadata": {},
   "source": [
    "### Convernt string columns into float"
   ]
  },
  {
   "cell_type": "code",
   "execution_count": 7,
   "metadata": {
    "collapsed": true
   },
   "outputs": [],
   "source": [
    "data['PTR']=pd.to_numeric(data['PTR'], errors='coerce')\n",
    "data['PCR']=pd.to_numeric(data['PCR'], errors='coerce')\n",
    "data['GPLR']=pd.to_numeric(data['GPLR'], errors='coerce')\n",
    "data['BPLR']=pd.to_numeric(data['BPLR'], errors='coerce')\n",
    "data['PTMR']=pd.to_numeric(data['PTMR'], errors='coerce')"
   ]
  },
  {
   "cell_type": "markdown",
   "metadata": {},
   "source": [
    "## Replace all rows with ' '   with '0'"
   ]
  },
  {
   "cell_type": "code",
   "execution_count": 8,
   "metadata": {},
   "outputs": [
    {
     "data": {
      "text/plain": [
       "Index(['id_districtname', 'id_regionname', 'id_village', 'villmtaaname',\n",
       "       'hh_size', 'mealsperday', 'Student_age', 'Dropout',\n",
       "       'SchoolhasGirlsroom', 'PTR', 'PCR', 'GPLR', 'BPLR', 'PTMR',\n",
       "       'Student_readbookwithparent', 'Parentteacherdiscussion',\n",
       "       'ParentCheckChildbook', 'EA_area', 'Studentsex', 'Income__source'],\n",
       "      dtype='object')"
      ]
     },
     "execution_count": 8,
     "metadata": {},
     "output_type": "execute_result"
    }
   ],
   "source": [
    "data.columns"
   ]
  },
  {
   "cell_type": "code",
   "execution_count": 9,
   "metadata": {
    "collapsed": true
   },
   "outputs": [],
   "source": [
    "column = ['Income__source','EA_area', 'ParentCheckChildbook', 'Parentteacherdiscussion', 'Student_readbookwithparent', \n",
    "       'SchoolhasGirlsroom', 'mealsperday']\n",
    "for col in column:\n",
    "    data[col] = data[col].str.replace(' ','0')"
   ]
  },
  {
   "cell_type": "markdown",
   "metadata": {},
   "source": [
    "### Check for Missing values\n"
   ]
  },
  {
   "cell_type": "code",
   "execution_count": 10,
   "metadata": {},
   "outputs": [
    {
     "data": {
      "text/html": [
       "<div>\n",
       "<style>\n",
       "    .dataframe thead tr:only-child th {\n",
       "        text-align: right;\n",
       "    }\n",
       "\n",
       "    .dataframe thead th {\n",
       "        text-align: left;\n",
       "    }\n",
       "\n",
       "    .dataframe tbody tr th {\n",
       "        vertical-align: top;\n",
       "    }\n",
       "</style>\n",
       "<table border=\"1\" class=\"dataframe\">\n",
       "  <thead>\n",
       "    <tr style=\"text-align: right;\">\n",
       "      <th></th>\n",
       "      <th>id_village</th>\n",
       "      <th>hh_size</th>\n",
       "      <th>Student_age</th>\n",
       "      <th>Dropout</th>\n",
       "      <th>PTR</th>\n",
       "      <th>PCR</th>\n",
       "      <th>GPLR</th>\n",
       "      <th>BPLR</th>\n",
       "      <th>PTMR</th>\n",
       "      <th>Studentsex</th>\n",
       "    </tr>\n",
       "  </thead>\n",
       "  <tbody>\n",
       "    <tr>\n",
       "      <th>count</th>\n",
       "      <td>61340.000000</td>\n",
       "      <td>61340.000000</td>\n",
       "      <td>61340.000000</td>\n",
       "      <td>61340.000000</td>\n",
       "      <td>61182.000000</td>\n",
       "      <td>59088.000000</td>\n",
       "      <td>59108.000000</td>\n",
       "      <td>59025.000000</td>\n",
       "      <td>38792.000000</td>\n",
       "      <td>61340.000000</td>\n",
       "    </tr>\n",
       "    <tr>\n",
       "      <th>mean</th>\n",
       "      <td>2540.503521</td>\n",
       "      <td>7.026459</td>\n",
       "      <td>10.523117</td>\n",
       "      <td>0.016042</td>\n",
       "      <td>41.722600</td>\n",
       "      <td>74.358083</td>\n",
       "      <td>60.618793</td>\n",
       "      <td>62.071180</td>\n",
       "      <td>113.422243</td>\n",
       "      <td>1.501891</td>\n",
       "    </tr>\n",
       "    <tr>\n",
       "      <th>std</th>\n",
       "      <td>1406.939689</td>\n",
       "      <td>3.233164</td>\n",
       "      <td>2.539036</td>\n",
       "      <td>0.125637</td>\n",
       "      <td>20.365691</td>\n",
       "      <td>56.003540</td>\n",
       "      <td>48.679339</td>\n",
       "      <td>49.862597</td>\n",
       "      <td>141.459215</td>\n",
       "      <td>0.500000</td>\n",
       "    </tr>\n",
       "    <tr>\n",
       "      <th>min</th>\n",
       "      <td>1.000000</td>\n",
       "      <td>1.000000</td>\n",
       "      <td>6.000000</td>\n",
       "      <td>0.000000</td>\n",
       "      <td>0.000000</td>\n",
       "      <td>0.000000</td>\n",
       "      <td>0.000000</td>\n",
       "      <td>0.000000</td>\n",
       "      <td>0.000000</td>\n",
       "      <td>1.000000</td>\n",
       "    </tr>\n",
       "    <tr>\n",
       "      <th>25%</th>\n",
       "      <td>1273.000000</td>\n",
       "      <td>5.000000</td>\n",
       "      <td>8.000000</td>\n",
       "      <td>0.000000</td>\n",
       "      <td>30.666666</td>\n",
       "      <td>47.714287</td>\n",
       "      <td>30.571428</td>\n",
       "      <td>31.333334</td>\n",
       "      <td>25.600000</td>\n",
       "      <td>1.000000</td>\n",
       "    </tr>\n",
       "    <tr>\n",
       "      <th>50%</th>\n",
       "      <td>2675.000000</td>\n",
       "      <td>6.000000</td>\n",
       "      <td>10.000000</td>\n",
       "      <td>0.000000</td>\n",
       "      <td>39.111111</td>\n",
       "      <td>63.400002</td>\n",
       "      <td>47.454544</td>\n",
       "      <td>49.250000</td>\n",
       "      <td>63.500000</td>\n",
       "      <td>2.000000</td>\n",
       "    </tr>\n",
       "    <tr>\n",
       "      <th>75%</th>\n",
       "      <td>3753.000000</td>\n",
       "      <td>8.000000</td>\n",
       "      <td>12.000000</td>\n",
       "      <td>0.000000</td>\n",
       "      <td>48.807693</td>\n",
       "      <td>86.857140</td>\n",
       "      <td>75.400002</td>\n",
       "      <td>77.500000</td>\n",
       "      <td>141.333328</td>\n",
       "      <td>2.000000</td>\n",
       "    </tr>\n",
       "    <tr>\n",
       "      <th>max</th>\n",
       "      <td>4770.000000</td>\n",
       "      <td>50.000000</td>\n",
       "      <td>16.000000</td>\n",
       "      <td>1.000000</td>\n",
       "      <td>596.000000</td>\n",
       "      <td>1017.000000</td>\n",
       "      <td>687.333313</td>\n",
       "      <td>704.666687</td>\n",
       "      <td>1414.000000</td>\n",
       "      <td>2.000000</td>\n",
       "    </tr>\n",
       "  </tbody>\n",
       "</table>\n",
       "</div>"
      ],
      "text/plain": [
       "         id_village       hh_size   Student_age       Dropout           PTR  \\\n",
       "count  61340.000000  61340.000000  61340.000000  61340.000000  61182.000000   \n",
       "mean    2540.503521      7.026459     10.523117      0.016042     41.722600   \n",
       "std     1406.939689      3.233164      2.539036      0.125637     20.365691   \n",
       "min        1.000000      1.000000      6.000000      0.000000      0.000000   \n",
       "25%     1273.000000      5.000000      8.000000      0.000000     30.666666   \n",
       "50%     2675.000000      6.000000     10.000000      0.000000     39.111111   \n",
       "75%     3753.000000      8.000000     12.000000      0.000000     48.807693   \n",
       "max     4770.000000     50.000000     16.000000      1.000000    596.000000   \n",
       "\n",
       "                PCR          GPLR          BPLR          PTMR    Studentsex  \n",
       "count  59088.000000  59108.000000  59025.000000  38792.000000  61340.000000  \n",
       "mean      74.358083     60.618793     62.071180    113.422243      1.501891  \n",
       "std       56.003540     48.679339     49.862597    141.459215      0.500000  \n",
       "min        0.000000      0.000000      0.000000      0.000000      1.000000  \n",
       "25%       47.714287     30.571428     31.333334     25.600000      1.000000  \n",
       "50%       63.400002     47.454544     49.250000     63.500000      2.000000  \n",
       "75%       86.857140     75.400002     77.500000    141.333328      2.000000  \n",
       "max     1017.000000    687.333313    704.666687   1414.000000      2.000000  "
      ]
     },
     "execution_count": 10,
     "metadata": {},
     "output_type": "execute_result"
    }
   ],
   "source": [
    "data.describe()"
   ]
  },
  {
   "cell_type": "markdown",
   "metadata": {},
   "source": [
    "#### The following column has missing data: PTR, PCR, GPLR, BPLR and PTMR"
   ]
  },
  {
   "cell_type": "markdown",
   "metadata": {},
   "source": [
    "#### Fill missing values using medians and zero for PTMR"
   ]
  },
  {
   "cell_type": "code",
   "execution_count": 11,
   "metadata": {
    "collapsed": true
   },
   "outputs": [],
   "source": [
    "data['PCR'].fillna(data['PCR'].median(), inplace=True)\n",
    "data['PTR'].fillna(data['PTR'].median(), inplace=True)\n",
    "data['BPLR'].fillna(data['BPLR'].median(), inplace=True)\n",
    "data['GPLR'].fillna(data['GPLR'].median(), inplace=True)\n",
    "data['PTMR'].fillna(data['PTMR'].median(), inplace=True)"
   ]
  },
  {
   "cell_type": "code",
   "execution_count": 12,
   "metadata": {},
   "outputs": [
    {
     "data": {
      "text/html": [
       "<div>\n",
       "<style>\n",
       "    .dataframe thead tr:only-child th {\n",
       "        text-align: right;\n",
       "    }\n",
       "\n",
       "    .dataframe thead th {\n",
       "        text-align: left;\n",
       "    }\n",
       "\n",
       "    .dataframe tbody tr th {\n",
       "        vertical-align: top;\n",
       "    }\n",
       "</style>\n",
       "<table border=\"1\" class=\"dataframe\">\n",
       "  <thead>\n",
       "    <tr style=\"text-align: right;\">\n",
       "      <th></th>\n",
       "      <th>id_village</th>\n",
       "      <th>hh_size</th>\n",
       "      <th>Student_age</th>\n",
       "      <th>Dropout</th>\n",
       "      <th>PTR</th>\n",
       "      <th>PCR</th>\n",
       "      <th>GPLR</th>\n",
       "      <th>BPLR</th>\n",
       "      <th>PTMR</th>\n",
       "      <th>Studentsex</th>\n",
       "    </tr>\n",
       "  </thead>\n",
       "  <tbody>\n",
       "    <tr>\n",
       "      <th>count</th>\n",
       "      <td>61340.000000</td>\n",
       "      <td>61340.000000</td>\n",
       "      <td>61340.000000</td>\n",
       "      <td>61340.000000</td>\n",
       "      <td>61340.000000</td>\n",
       "      <td>61340.000000</td>\n",
       "      <td>61340.000000</td>\n",
       "      <td>61340.000000</td>\n",
       "      <td>61340.000000</td>\n",
       "      <td>61340.000000</td>\n",
       "    </tr>\n",
       "    <tr>\n",
       "      <th>mean</th>\n",
       "      <td>2540.503521</td>\n",
       "      <td>7.026459</td>\n",
       "      <td>10.523117</td>\n",
       "      <td>0.016042</td>\n",
       "      <td>41.715873</td>\n",
       "      <td>73.955774</td>\n",
       "      <td>60.139781</td>\n",
       "      <td>61.587303</td>\n",
       "      <td>95.071302</td>\n",
       "      <td>1.501891</td>\n",
       "    </tr>\n",
       "    <tr>\n",
       "      <th>std</th>\n",
       "      <td>1406.939689</td>\n",
       "      <td>3.233164</td>\n",
       "      <td>2.539036</td>\n",
       "      <td>0.125637</td>\n",
       "      <td>20.339876</td>\n",
       "      <td>55.004487</td>\n",
       "      <td>47.849000</td>\n",
       "      <td>48.973600</td>\n",
       "      <td>115.040062</td>\n",
       "      <td>0.500000</td>\n",
       "    </tr>\n",
       "    <tr>\n",
       "      <th>min</th>\n",
       "      <td>1.000000</td>\n",
       "      <td>1.000000</td>\n",
       "      <td>6.000000</td>\n",
       "      <td>0.000000</td>\n",
       "      <td>0.000000</td>\n",
       "      <td>0.000000</td>\n",
       "      <td>0.000000</td>\n",
       "      <td>0.000000</td>\n",
       "      <td>0.000000</td>\n",
       "      <td>1.000000</td>\n",
       "    </tr>\n",
       "    <tr>\n",
       "      <th>25%</th>\n",
       "      <td>1273.000000</td>\n",
       "      <td>5.000000</td>\n",
       "      <td>8.000000</td>\n",
       "      <td>0.000000</td>\n",
       "      <td>30.666666</td>\n",
       "      <td>48.571430</td>\n",
       "      <td>31.200001</td>\n",
       "      <td>32.000000</td>\n",
       "      <td>44.400002</td>\n",
       "      <td>1.000000</td>\n",
       "    </tr>\n",
       "    <tr>\n",
       "      <th>50%</th>\n",
       "      <td>2675.000000</td>\n",
       "      <td>6.000000</td>\n",
       "      <td>10.000000</td>\n",
       "      <td>0.000000</td>\n",
       "      <td>39.111111</td>\n",
       "      <td>63.400002</td>\n",
       "      <td>47.454544</td>\n",
       "      <td>49.250000</td>\n",
       "      <td>63.500000</td>\n",
       "      <td>2.000000</td>\n",
       "    </tr>\n",
       "    <tr>\n",
       "      <th>75%</th>\n",
       "      <td>3753.000000</td>\n",
       "      <td>8.000000</td>\n",
       "      <td>12.000000</td>\n",
       "      <td>0.000000</td>\n",
       "      <td>48.764706</td>\n",
       "      <td>85.375000</td>\n",
       "      <td>74.000000</td>\n",
       "      <td>75.666664</td>\n",
       "      <td>87.666664</td>\n",
       "      <td>2.000000</td>\n",
       "    </tr>\n",
       "    <tr>\n",
       "      <th>max</th>\n",
       "      <td>4770.000000</td>\n",
       "      <td>50.000000</td>\n",
       "      <td>16.000000</td>\n",
       "      <td>1.000000</td>\n",
       "      <td>596.000000</td>\n",
       "      <td>1017.000000</td>\n",
       "      <td>687.333313</td>\n",
       "      <td>704.666687</td>\n",
       "      <td>1414.000000</td>\n",
       "      <td>2.000000</td>\n",
       "    </tr>\n",
       "  </tbody>\n",
       "</table>\n",
       "</div>"
      ],
      "text/plain": [
       "         id_village       hh_size   Student_age       Dropout           PTR  \\\n",
       "count  61340.000000  61340.000000  61340.000000  61340.000000  61340.000000   \n",
       "mean    2540.503521      7.026459     10.523117      0.016042     41.715873   \n",
       "std     1406.939689      3.233164      2.539036      0.125637     20.339876   \n",
       "min        1.000000      1.000000      6.000000      0.000000      0.000000   \n",
       "25%     1273.000000      5.000000      8.000000      0.000000     30.666666   \n",
       "50%     2675.000000      6.000000     10.000000      0.000000     39.111111   \n",
       "75%     3753.000000      8.000000     12.000000      0.000000     48.764706   \n",
       "max     4770.000000     50.000000     16.000000      1.000000    596.000000   \n",
       "\n",
       "                PCR          GPLR          BPLR          PTMR    Studentsex  \n",
       "count  61340.000000  61340.000000  61340.000000  61340.000000  61340.000000  \n",
       "mean      73.955774     60.139781     61.587303     95.071302      1.501891  \n",
       "std       55.004487     47.849000     48.973600    115.040062      0.500000  \n",
       "min        0.000000      0.000000      0.000000      0.000000      1.000000  \n",
       "25%       48.571430     31.200001     32.000000     44.400002      1.000000  \n",
       "50%       63.400002     47.454544     49.250000     63.500000      2.000000  \n",
       "75%       85.375000     74.000000     75.666664     87.666664      2.000000  \n",
       "max     1017.000000    687.333313    704.666687   1414.000000      2.000000  "
      ]
     },
     "execution_count": 12,
     "metadata": {},
     "output_type": "execute_result"
    }
   ],
   "source": [
    "data.describe()"
   ]
  },
  {
   "cell_type": "code",
   "execution_count": 13,
   "metadata": {
    "collapsed": true
   },
   "outputs": [],
   "source": [
    "## Change dropout code: 1 not drop and 0  dropout\n",
    "data['Dropout'] = data['Dropout'].map({0: 1,1: 0})"
   ]
  },
  {
   "cell_type": "markdown",
   "metadata": {},
   "source": [
    "Code book;\n",
    "* Household size (hh_size)\n",
    "* Household meals per day (mealsperday)\n",
    "* Student age (Student_age)\n",
    "* Dropout {Code:    No – 1, Yes - 0}\n",
    "* School has girl’s privacy room, especially during menses (SchoolhasGirlsroom) {Code:   Yes – 1, No – 2}\n",
    "* PTR – Pupil Teacher Ratio\n",
    "* PCR – Pupil Classroom\n",
    "* GPLR – Girl’s Pupil Latrines Ratio\n",
    "* BPLR – Boy’s Pupil Latrines Ratio\n",
    "* PTMR – Parent teacher meeting\n",
    "* Student who did read any book with his/her parent in last week (Student_readbookwithparent) {Code:   Yes – 1, No – 2}\n",
    "* Parent who discuss his/her child’s progress with teacher last term (Parentteacherdiscussion) {Code:   Yes – 1, No – 2}\n",
    "* Parent who check his /her child’s exercise book once in a week (ParentCheckChildbook) {Code:   Yes – 1, No – 2}\n",
    "* Enumeration Area type (EA_area) {Code:     1 – Peri-urban, 2 – Rural, 3 – Urban\n",
    "* Student gender (Studentsex) {Code:   Male – 1, Female – 2}\n",
    "* Main source of household income (Income__source) {Code:     Employed– 1, Self-employed– 2, Retired- 3, Unemployed- 4}\n",
    "    * Note:  Employed refers people who are received Casual wage, Transfers, Formal wage.\n",
    "                Self-employed refers who are homemaker, farming, own business\n",
    "                Retired refers who are receive pension\n",
    "                Unemployed refers who are unemployed\n"
   ]
  },
  {
   "cell_type": "markdown",
   "metadata": {},
   "source": [
    "## Check Dropout distribution"
   ]
  },
  {
   "cell_type": "code",
   "execution_count": 1,
   "metadata": {},
   "outputs": [
    {
     "ename": "NameError",
     "evalue": "name 'data' is not defined",
     "output_type": "error",
     "traceback": [
      "\u001b[0;31m---------------------------------------------------------------------------\u001b[0m",
      "\u001b[0;31mNameError\u001b[0m                                 Traceback (most recent call last)",
      "\u001b[0;32m<ipython-input-1-189a6769229a>\u001b[0m in \u001b[0;36m<module>\u001b[0;34m()\u001b[0m\n\u001b[0;32m----> 1\u001b[0;31m \u001b[0mdata\u001b[0m\u001b[0;34m.\u001b[0m\u001b[0mDropout\u001b[0m\u001b[0;34m.\u001b[0m\u001b[0mvalue_counts\u001b[0m\u001b[0;34m(\u001b[0m\u001b[0;34m)\u001b[0m\u001b[0;34m.\u001b[0m\u001b[0mplot\u001b[0m\u001b[0;34m(\u001b[0m\u001b[0mkind\u001b[0m\u001b[0;34m=\u001b[0m\u001b[0;34m'bar'\u001b[0m\u001b[0;34m,\u001b[0m \u001b[0mcolor\u001b[0m\u001b[0;34m=\u001b[0m\u001b[0;34m\"g\"\u001b[0m\u001b[0;34m,\u001b[0m \u001b[0malpha\u001b[0m\u001b[0;34m=\u001b[0m\u001b[0;36m1\u001b[0m\u001b[0;34m)\u001b[0m\u001b[0;34m\u001b[0m\u001b[0m\n\u001b[0m\u001b[1;32m      2\u001b[0m \u001b[0mplt\u001b[0m\u001b[0;34m.\u001b[0m\u001b[0mtitle\u001b[0m\u001b[0;34m(\u001b[0m\u001b[0;34m\"Dropout Breakdown (1 = not-dropout, 0 = dropout)\"\u001b[0m\u001b[0;34m)\u001b[0m\u001b[0;34m\u001b[0m\u001b[0m\n\u001b[1;32m      3\u001b[0m \u001b[0mplt\u001b[0m\u001b[0;34m.\u001b[0m\u001b[0mylabel\u001b[0m\u001b[0;34m(\u001b[0m\u001b[0;34m\"Number of Students\"\u001b[0m\u001b[0;34m)\u001b[0m\u001b[0;34m;\u001b[0m\u001b[0;34m\u001b[0m\u001b[0m\n\u001b[1;32m      4\u001b[0m \u001b[0mplt\u001b[0m\u001b[0;34m.\u001b[0m\u001b[0msavefig\u001b[0m\u001b[0;34m(\u001b[0m\u001b[0;34m'image/dropout-distribution.pdf'\u001b[0m\u001b[0;34m)\u001b[0m\u001b[0;34m\u001b[0m\u001b[0m\n",
      "\u001b[0;31mNameError\u001b[0m: name 'data' is not defined"
     ]
    }
   ],
   "source": [
    "data.Dropout.value_counts().plot(kind='bar', color=\"g\", alpha=1)\n",
    "plt.title(\"Dropout Breakdown (1 = not-dropout, 0 = dropout)\")\n",
    "plt.ylabel(\"Number of Students\");\n",
    "plt.savefig('image/dropout-distribution.pdf')"
   ]
  },
  {
   "cell_type": "code",
   "execution_count": 13,
   "metadata": {},
   "outputs": [
    {
     "name": "stdout",
     "output_type": "stream",
     "text": [
      "Number of dropout  984\n",
      "Number of not dropout  60356\n",
      "Percent of dropout  1.6\n"
     ]
    }
   ],
   "source": [
    "n_not_drop = len(data[data.Dropout==1])\n",
    "n_drop = len(data[data.Dropout==0])\n",
    "print(\"Number of dropout \", n_drop)\n",
    "print(\"Number of not dropout \", n_not_drop)\n",
    "print(\"Percent of dropout \", round(n_drop *100/float(n_not_drop + n_drop ),2))"
   ]
  },
  {
   "cell_type": "markdown",
   "metadata": {},
   "source": [
    "#### We have observed that, there is data imbalance for target variable (Dropout). Dropout is only 1.6%. \n",
    "\n",
    "To address this problem: [link](http://machinelearningmastery.com/tactics-to-combat-imbalanced-classes-in-your-machine-learning-dataset/)\n"
   ]
  },
  {
   "cell_type": "code",
   "execution_count": 24,
   "metadata": {
    "collapsed": true
   },
   "outputs": [],
   "source": [
    "from sklearn.utils import resample"
   ]
  },
  {
   "cell_type": "markdown",
   "metadata": {},
   "source": [
    "### Let try to resample our dataset:"
   ]
  },
  {
   "cell_type": "code",
   "execution_count": 25,
   "metadata": {
    "collapsed": true
   },
   "outputs": [],
   "source": [
    "# Separate majority and minority classes\n",
    "data_majority = data[data.Dropout==1]\n",
    "data_minority = data[data.Dropout==0]"
   ]
  },
  {
   "cell_type": "code",
   "execution_count": 30,
   "metadata": {
    "collapsed": true
   },
   "outputs": [],
   "source": [
    "# Upsample minority class\n",
    "data_minority_upsampled = resample(data_minority, \n",
    "                                 replace=True,     # sample with replacement\n",
    "                                 n_samples=50000,    # to match majority class\n",
    "                                 random_state=123) # reproducible results"
   ]
  },
  {
   "cell_type": "code",
   "execution_count": 31,
   "metadata": {
    "collapsed": true
   },
   "outputs": [],
   "source": [
    "data_upsampled = pd.concat([data_majority, data_minority_upsampled])"
   ]
  },
  {
   "cell_type": "code",
   "execution_count": 34,
   "metadata": {},
   "outputs": [
    {
     "data": {
      "image/png": "[encoded data removed]",
      "text/plain": [
       "<matplotlib.figure.Figure at 0x7f652f2934a8>"
      ]
     },
     "metadata": {},
     "output_type": "display_data"
    }
   ],
   "source": [
    "data_upsampled.Dropout.value_counts().plot(kind='bar', color=\"g\", alpha=1)\n",
    "plt.title(\"Dropout Breakdown (1 = not-dropout, 0 = dropout)\")\n",
    "plt.ylabel(\"Number of Students\")\n",
    "plt.savefig('image/dropout-dist-resample.pdf')"
   ]
  },
  {
   "cell_type": "markdown",
   "metadata": {},
   "source": [
    "## Save the final data with atleast 50,000dropout"
   ]
  },
  {
   "cell_type": "code",
   "execution_count": null,
   "metadata": {
    "collapsed": true
   },
   "outputs": [],
   "source": [
    "final_data.to_csv('data/twaweza_dataset.csv')"
   ]
  },
  {
   "cell_type": "markdown",
   "metadata": {
    "collapsed": true
   },
   "source": [
    "## Separate the final data into training (60%), test (20%) and validation (20%)."
   ]
  },
  {
   "cell_type": "code",
   "execution_count": null,
   "metadata": {
    "collapsed": true
   },
   "outputs": [],
   "source": [
    "train, validate, test = np.split(data.sample(frac=1), [int(.6*len(data)), int(.8*len(data))])\n",
    "train.to_csv('data/train_twaweza.csv')\n",
    "test.to_csv('data/test_twaweza.csv')\n",
    "validate.to_csv('data/validate_twaweza.csv')"
   ]
  }
 ],
 "metadata": {
  "kernelspec": {
   "display_name": "Python 3",
   "language": "python",
   "name": "python3"
  },
  "language_info": {
   "codemirror_mode": {
    "name": "ipython",
    "version": 3
   },
   "file_extension": ".py",
   "mimetype": "text/x-python",
   "name": "python",
   "nbconvert_exporter": "python",
   "pygments_lexer": "ipython3",
   "version": "3.6.0"
  }
 },
 "nbformat": 4,
 "nbformat_minor": 2
}
