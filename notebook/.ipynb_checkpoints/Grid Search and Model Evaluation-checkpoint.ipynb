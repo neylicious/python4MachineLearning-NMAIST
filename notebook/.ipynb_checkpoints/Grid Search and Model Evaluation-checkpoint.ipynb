{
 "cells": [
  {
   "cell_type": "markdown",
   "metadata": {},
   "source": [
    "# 1. Import required libraries"
   ]
  },
  {
   "cell_type": "code",
   "execution_count": 1,
   "metadata": {
    "collapsed": true
   },
   "outputs": [],
   "source": [
    "import pandas as pd\n",
    "import numpy as np\n",
    "import seaborn as sns\n",
    "from scipy.stats import randint as sp_randint\n",
    "import matplotlib\n",
    "import matplotlib.pyplot as plt\n",
    "import matplotlib.cm as cm\n",
    "from pylab import rcParams\n",
    "np.set_printoptions(precision=3)\n",
    "%matplotlib inline"
   ]
  },
  {
   "cell_type": "markdown",
   "metadata": {},
   "source": [
    "# 2. Load twaweza cleaned data"
   ]
  },
  {
   "cell_type": "code",
   "execution_count": 2,
   "metadata": {
    "collapsed": true
   },
   "outputs": [],
   "source": [
    "#load cleaned data\n",
    "data = pd.read_csv('data/clean_titanic.csv')"
   ]
  },
  {
   "cell_type": "code",
   "execution_count": null,
   "metadata": {
    "collapsed": true
   },
   "outputs": [],
   "source": [
    "from sklearn.neighbors import KNeighborsClassifier\n",
    "from sklearn.naive_bayes import GaussianNB\n",
    "from sklearn.linear_model import LogisticRegression\n",
    "from sklearn import tree\n",
    "from sklearn.ensemble import RandomForestClassifier, AdaBoostClassifier\n",
    "from sklearn.metrics import classification_report\n",
    "from sklearn.neural_network import MLPClassifier\n",
    "from sklearn.discriminant_analysis import QuadraticDiscriminantAnalysis as QDA \n",
    "from sklearn.discriminant_analysis import LinearDiscriminantAnalysis as LDA\n",
    "from sklearn import model_selection\n",
    "from sklearn.model_selection import train_test_split\n",
    "from sklearn.metrics import f1_score, accuracy_score"
   ]
  },
  {
   "cell_type": "code",
   "execution_count": 8,
   "metadata": {
    "collapsed": true
   },
   "outputs": [],
   "source": [
    "feature = ['PTR', 'PCR', 'GPLR', 'BPLR', 'PTMR', 'hh_size','Parentteacherdiscussion']\n",
    "X_train = data_train[feature]\n",
    "y_train = data_train.Dropout\n",
    "X_val   = data_validate[feature]\n",
    "y_val   = data_validate.Dropout\n",
    "X_test  = data_test[feature]\n",
    "y_test  = data_test.Dropout"
   ]
  },
  {
   "cell_type": "markdown",
   "metadata": {},
   "source": [
    "# 3. Hyper-parameter Selection"
   ]
  },
  {
   "cell_type": "markdown",
   "metadata": {},
   "source": [
    "We will be using Grid search to find best hyper-parameters of the model."
   ]
  },
  {
   "cell_type": "markdown",
   "metadata": {},
   "source": [
    "## 3.1 Simple Grid Search\n",
    "Let us start with simple grid search on KNN classifier"
   ]
  },
  {
   "cell_type": "code",
   "execution_count": 10,
   "metadata": {},
   "outputs": [
    {
     "name": "stdout",
     "output_type": "stream",
     "text": [
      "best F-1 score: 0.98\n",
      "best parameter: {'neighbour': 1}\n"
     ]
    }
   ],
   "source": [
    "neighbour = [1,2,3,4,5]\n",
    "best_score = 0\n",
    "for k in neighbour:\n",
    "    knn     =  KNeighborsClassifier(n_neighbors=k)\n",
    "    knn.fit(X_train,y_train)\n",
    "    y_p = knn.predict(X_val)\n",
    "    f_score = f1_score(y_val, y_p)\n",
    "    if f_score > best_score:\n",
    "        best_score = f_score\n",
    "        best_parameter = {\"neighbour\":k}\n",
    "print(\"best F-1 score: %.2f\" % best_score)\n",
    "print(\"best parameter: {}\".format(best_parameter))\n",
    "        "
   ]
  },
  {
   "cell_type": "markdown",
   "metadata": {},
   "source": [
    "From the above results the best value of neighbour is 2. However this result can not be generalized to new data.\n",
    "\n",
    "To address this problem it is better to split the data again into three partition namely:\n",
    "- Training set which will be used for building model.\n",
    "- Validation set which will be used for selecting hyper-parameters.\n",
    "- Test set which will be used for model evaluation.\n",
    "\n",
    "as follows:"
   ]
  },
  {
   "cell_type": "code",
   "execution_count": 11,
   "metadata": {},
   "outputs": [
    {
     "name": "stdout",
     "output_type": "stream",
     "text": [
      "Size new training set: 59591\n",
      "Size validation set: 6622\n",
      "Size test set: 22072\n"
     ]
    }
   ],
   "source": [
    "# First we split training set further into training and validation sets\n",
    "X_new_train, X_validation, y_new_train, y_validation = train_test_split(X_train, y_train, test_size=0.10, random_state=42)\n",
    "print(\"Size new training set: %d\" %X_new_train.shape[0])\n",
    "print(\"Size validation set: %d\" %X_validation.shape[0])\n",
    "print(\"Size test set: %d\" %X_test.shape[0])"
   ]
  },
  {
   "cell_type": "code",
   "execution_count": 12,
   "metadata": {},
   "outputs": [
    {
     "name": "stdout",
     "output_type": "stream",
     "text": [
      "best parameter: {'neighbour': 3}\n",
      "best F-1 score on validation: 0.97\n",
      "best F-1 score on test: 0.97\n"
     ]
    }
   ],
   "source": [
    "neighbour = [1,2,3,4,5]\n",
    "best_score = 0\n",
    "for k in neighbour:\n",
    "    knn     =  KNeighborsClassifier(n_neighbors=k)\n",
    "    knn.fit(X_new_train,y_new_train)\n",
    "    y_p = knn.predict(X_validation)\n",
    "    f_score = f1_score(y_validation, y_p)\n",
    "    if f_score > best_score:\n",
    "        best_score = f_score\n",
    "        best_parameter = {\"neighbour\":k}\n",
    "        \n",
    "knn_best = KNeighborsClassifier(n_neighbors=best_parameter['neighbour'])\n",
    "knn_best.fit(X_train, y_train)\n",
    "y_p_test = knn_best.predict(X_test)\n",
    "f_score_test = f1_score(y_test, y_p_test)\n",
    "print(\"best parameter: {}\".format(best_parameter))\n",
    "print(\"best F-1 score on validation: %.2f\" % best_score)\n",
    "print(\"best F-1 score on test: %.2f\" % f_score_test)"
   ]
  },
  {
   "cell_type": "markdown",
   "metadata": {},
   "source": [
    "However the limitation of the above approch is on how to split the data into training, validation and test set."
   ]
  },
  {
   "cell_type": "markdown",
   "metadata": {},
   "source": [
    "## 3.2 Grid search with Cross-validation"
   ]
  },
  {
   "cell_type": "code",
   "execution_count": 18,
   "metadata": {},
   "outputs": [
    {
     "name": "stdout",
     "output_type": "stream",
     "text": [
      "best parameter: {'neighbour': 2}\n",
      "best F-1 score on training: 0.97\n",
      "best F-1 score on test: 0.98\n"
     ]
    }
   ],
   "source": [
    "neighbour = [1,2,3,4,5]\n",
    "best_score = 0\n",
    "score='f1'\n",
    "\n",
    "# Find best parameter\n",
    "for k in neighbour:\n",
    "    knn = KNeighborsClassifier(n_neighbors=k)\n",
    "    skfold = model_selection.StratifiedKFold(n_splits=5)\n",
    "    cv_results = model_selection.cross_val_score(knn, X_train, y_train, cv=skfold, scoring=score)\n",
    "    if cv_results.mean() > best_score:\n",
    "        best_score = cv_results.mean()\n",
    "        best_parameter = {\"neighbour\":k}\n",
    "        \n",
    "# evaluate best parameter on test data\n",
    "knn_best = KNeighborsClassifier(n_neighbors=best_parameter['neighbour'])\n",
    "knn_best.fit(X_train, y_train)\n",
    "y_p_test = knn_best.predict(X_test)\n",
    "f_score_test = f1_score(y_test, y_p_test)\n",
    "print(\"best parameter: {}\".format(best_parameter))\n",
    "print(\"best F-1 score on training: %.2f\" % best_score)\n",
    "print(\"best F-1 score on test: %.2f\" % f_score_test)"
   ]
  },
  {
   "cell_type": "markdown",
   "metadata": {},
   "source": [
    "## 3. 2.1 GridSearchCV\n",
    "Despite the fact that the above procedure work, [sklearn](scikit-learn.org) has implemented a grid search class (GridSearchCV) which simply the whole procedure. To use this class:"
   ]
  },
  {
   "cell_type": "code",
   "execution_count": 19,
   "metadata": {
    "collapsed": true
   },
   "outputs": [],
   "source": [
    "from sklearn.model_selection import GridSearchCV"
   ]
  },
  {
   "cell_type": "code",
   "execution_count": 20,
   "metadata": {},
   "outputs": [
    {
     "data": {
      "text/plain": [
       "GridSearchCV(cv=StratifiedKFold(n_splits=5, random_state=None, shuffle=False),\n",
       "       error_score='raise',\n",
       "       estimator=KNeighborsClassifier(algorithm='auto', leaf_size=30, metric='minkowski',\n",
       "           metric_params=None, n_jobs=1, n_neighbors=5, p=2,\n",
       "           weights='uniform'),\n",
       "       fit_params={}, iid=True, n_jobs=1,\n",
       "       param_grid={'n_neighbors': [1, 2, 3, 4, 5]},\n",
       "       pre_dispatch='2*n_jobs', refit=True, return_train_score=True,\n",
       "       scoring='f1', verbose=0)"
      ]
     },
     "execution_count": 20,
     "metadata": {},
     "output_type": "execute_result"
    }
   ],
   "source": [
    "neighbour = [1,2,3,4,5]\n",
    "best_score = 0\n",
    "score='f1'\n",
    "parameter = {'n_neighbors':neighbour}\n",
    "skfold = model_selection.StratifiedKFold(n_splits=5)\n",
    "knn = KNeighborsClassifier()\n",
    "gridCV = GridSearchCV(knn, param_grid=parameter, scoring=score, cv=skfold)\n",
    "gridCV.fit(X_train, y_train)"
   ]
  },
  {
   "cell_type": "code",
   "execution_count": 29,
   "metadata": {},
   "outputs": [
    {
     "name": "stdout",
     "output_type": "stream",
     "text": [
      "Test score: 0.98\n",
      "Training score: 0.97\n",
      "Best parameter: 2\n"
     ]
    }
   ],
   "source": [
    "print(\"Test score: %.2f\" %gridCV.score(X_test,y_test))\n",
    "print(\"Training score: %.2f\" %gridCV.best_score_)\n",
    "print(\"Best parameter: %d\" %gridCV.best_params_['n_neighbors'])"
   ]
  },
  {
   "cell_type": "markdown",
   "metadata": {},
   "source": [
    "This give us the same results as the previous grid search procedure with minimum number of codes. However, grid search is only suitable when you have few hyperparameter search space. Let us explore other type of grid search with is called Random grid search."
   ]
  },
  {
   "cell_type": "markdown",
   "metadata": {},
   "source": [
    "## 3.2.2 RandomizedSearchCV\n",
    "RandomizedSearchCV is the best when the hyperparameter search space is large. Unlike GridSearchCV, RandomizedSearchCV evaluate a given number of random combination by selection random value for each hyperparameter."
   ]
  },
  {
   "cell_type": "code",
   "execution_count": 13,
   "metadata": {},
   "outputs": [
    {
     "data": {
      "text/plain": [
       "RandomizedSearchCV(cv=StratifiedKFold(n_splits=5, random_state=None, shuffle=False),\n",
       "          error_score='raise',\n",
       "          estimator=KNeighborsClassifier(algorithm='auto', leaf_size=30, metric='minkowski',\n",
       "           metric_params=None, n_jobs=1, n_neighbors=5, p=2,\n",
       "           weights='uniform'),\n",
       "          fit_params=None, iid=True, n_iter=5, n_jobs=1,\n",
       "          param_distributions={'n_neighbors': [1, 2, 3, 4, 5]},\n",
       "          pre_dispatch='2*n_jobs', random_state=None, refit=True,\n",
       "          return_train_score=True, scoring='f1', verbose=0)"
      ]
     },
     "execution_count": 13,
     "metadata": {},
     "output_type": "execute_result"
    }
   ],
   "source": [
    "from sklearn.model_selection import RandomizedSearchCV\n",
    "neighbour = [1,2,3,4,5]\n",
    "best_score = 0\n",
    "score='f1'\n",
    "parameter = {'n_neighbors':neighbour}\n",
    "skfold = model_selection.StratifiedKFold(n_splits=5)\n",
    "knn = KNeighborsClassifier()\n",
    "gridRandom = RandomizedSearchCV(knn, parameter, scoring=score, cv=skfold, n_iter=5)\n",
    "gridRandom.fit(X_train,y_train)"
   ]
  },
  {
   "cell_type": "code",
   "execution_count": 14,
   "metadata": {},
   "outputs": [
    {
     "name": "stdout",
     "output_type": "stream",
     "text": [
      "Test score: 0.98\n",
      "Training score: 0.97\n",
      "Best parameter: 1\n"
     ]
    }
   ],
   "source": [
    "print(\"Test score: %.2f\" %gridRandom.score(X_val,y_val))\n",
    "print(\"Training score: %.2f\" %gridRandom.best_score_)\n",
    "print(\"Best parameter: %d\" %gridRandom.best_params_['n_neighbors'])"
   ]
  },
  {
   "cell_type": "markdown",
   "metadata": {
    "collapsed": true
   },
   "source": [
    "Both two GridSearchCV and RandomizedSearchCV gives the same results. However, we will use RandomizedSearchCV to select\n",
    "best hyperparameters of the three selected models (KNN, Random Forest and Decision Tree)"
   ]
  },
  {
   "cell_type": "markdown",
   "metadata": {},
   "source": [
    "# 4. Model Hyperparameters tuning\n",
    "\n",
    "Random Forest hyperparameters \n",
    "- n_estimator : Number of decision trees\n",
    "- max_feautures: Number of feautures to consider\n",
    "- criterion : Function used to measure the quality\n",
    "- min_weight_fraction_leaf : Minimum number of samples\n",
    "\n",
    "Decision Tree\n",
    "- min_weight_fraction_leaf : Minimum number of samples\n",
    "- max_feautures: Number of feautures to consider\n",
    "- criterion : Function used to measure the quality\n",
    "\n",
    "\n",
    "KNN\n",
    "- weight : Function to weight the neighbour\n",
    "- n_neighbour: Number of neighbour to use\n"
   ]
  },
  {
   "cell_type": "code",
   "execution_count": 15,
   "metadata": {
    "collapsed": true
   },
   "outputs": [],
   "source": [
    "# specify parameters and distributions to sample from\n",
    "param_rf = {\"max_depth\": [3, None],\n",
    "              \"min_samples_split\": sp_randint(2, 11),\n",
    "              \"min_samples_leaf\": sp_randint(1, 11),\n",
    "              \"bootstrap\": [True, False],\n",
    "              \"criterion\": [\"gini\", \"entropy\"]}\n",
    "\n",
    "\n",
    "param_dt = {\"max_depth\": sp_randint(5, 10),\n",
    "              \"min_samples_leaf\": sp_randint(1, 20),\n",
    "              \"max_leaf_nodes\": sp_randint(10, 20),\n",
    "              \"max_features\": [None, 'auto'],\n",
    "              \"criterion\": [\"gini\", \"entropy\"]\n",
    "           }\n",
    " \n",
    "\n",
    "param_knn = {\n",
    "              \"weights\": ['uniform', 'distance'],\n",
    "              \"n_neighbors\":  sp_randint(1, 10)\n",
    "           }\n"
   ]
  },
  {
   "cell_type": "code",
   "execution_count": 16,
   "metadata": {
    "collapsed": true
   },
   "outputs": [],
   "source": [
    "def random_parameter_search(X_train,y_train, X_test, y_test, score='f1'):\n",
    "    knn     =  KNeighborsClassifier()\n",
    "    dTree   =  tree.DecisionTreeClassifier()\n",
    "    rForest =  RandomForestClassifier()\n",
    "    \n",
    "    m_names = [\"Nearest Neighbors\",\n",
    "                   \"Decision Tree\",\n",
    "                   \"Random Forest\",\n",
    "                   ]\n",
    "               \n",
    "    \n",
    "    models = [knn, dTree, rForest]\n",
    "   \n",
    "    \n",
    "    parameter = [param_knn,param_dt,param_rf]\n",
    "    \n",
    "    test_score  = []\n",
    "    train_score = []\n",
    "    best_parameter =[]\n",
    "    \n",
    "    for (i,model) in enumerate(models):\n",
    "        print(\"Run %d model: %s\" %(i,m_names[i]))\n",
    "        skfold = model_selection.StratifiedKFold(n_splits=5)\n",
    "        gridRandom = RandomizedSearchCV(model, parameter[i], scoring=score, cv=skfold, n_iter=10)\n",
    "        gridRandom.fit(X_train,y_train)\n",
    "        test_score.append(gridRandom.score(X_test,y_test))\n",
    "        train_score.append(gridRandom.best_score_)\n",
    "        best_parameter.append(gridRandom.best_params_)\n",
    "        \n",
    "    return m_names, test_score, train_score, best_parameter   "
   ]
  },
  {
   "cell_type": "code",
   "execution_count": 17,
   "metadata": {},
   "outputs": [
    {
     "name": "stdout",
     "output_type": "stream",
     "text": [
      "Run 0 model: Nearest Neighbors\n",
      "Run 1 model: Decision Tree\n",
      "Run 2 model: Random Forest\n"
     ]
    }
   ],
   "source": [
    "m_names, test_score, train_score, best_parameter = random_parameter_search(X_train,y_train, X_val, y_val, score='f1')"
   ]
  },
  {
   "cell_type": "code",
   "execution_count": 26,
   "metadata": {
    "collapsed": true
   },
   "outputs": [],
   "source": [
    "def plotbar(plot_name, names, result,title,ylabel):\n",
    "    postion = np.arange(len(names))\n",
    "    plt.bar(postion, result, align='center', color ='g')\n",
    "    plt.xticks(postion, names, rotation=0)\n",
    "    plt.ylabel(ylabel)\n",
    "    plt.title(title)\n",
    "    plt.savefig('image/%s.pdf' %(plot_name), format='pdf')"
   ]
  },
  {
   "cell_type": "code",
   "execution_count": 27,
   "metadata": {
    "collapsed": true
   },
   "outputs": [],
   "source": [
    "names = ['KNN','DTree','RForest']"
   ]
  },
  {
   "cell_type": "code",
   "execution_count": 28,
   "metadata": {},
   "outputs": [
    {
     "data": {
      "image/png": "[encoded data removed]",
      "text/plain": [
       "<matplotlib.figure.Figure at 0x7f4a48cbf828>"
      ]
     },
     "metadata": {},
     "output_type": "display_data"
    }
   ],
   "source": [
    "plotbar(\"Hyper_perfomance\", names, test_score, \"F-1 Score Performance\", \"F-Score \\n (Higher is better)\")"
   ]
  },
  {
   "cell_type": "code",
   "execution_count": 23,
   "metadata": {},
   "outputs": [
    {
     "data": {
      "image/png": "[encoded data removed]",
      "text/plain": [
       "<matplotlib.figure.Figure at 0x7f4a48cf0128>"
      ]
     },
     "metadata": {},
     "output_type": "display_data"
    }
   ],
   "source": [
    "plotbar(\"Hyper_perfomance_training\", names, train_score, \"Training F-1 Score Performance\", \"F-Score \\n (Higher is better)\")"
   ]
  },
  {
   "cell_type": "code",
   "execution_count": 24,
   "metadata": {},
   "outputs": [
    {
     "name": "stdout",
     "output_type": "stream",
     "text": [
      "Model: Nearest Neighbors :best_parameter: {'n_neighbors': 3, 'weights': 'distance'}\n",
      "Model: Decision Tree :best_parameter: {'criterion': 'entropy', 'max_depth': 6, 'max_features': 'auto', 'max_leaf_nodes': 19, 'min_samples_leaf': 3}\n",
      "Model: Random Forest :best_parameter: {'bootstrap': True, 'criterion': 'entropy', 'max_depth': None, 'min_samples_leaf': 1, 'min_samples_split': 6}\n"
     ]
    }
   ],
   "source": [
    "for (i, name) in enumerate(m_names):\n",
    "    print(\"Model: {} :best_parameter: {}\".format(name, best_parameter[i]))"
   ]
  },
  {
   "cell_type": "code",
   "execution_count": 61,
   "metadata": {},
   "outputs": [
    {
     "name": "stdout",
     "output_type": "stream",
     "text": [
      "Nearest Neighbors :Test_score: 0.9815103952666612\n",
      "Decision Tree :Test_score: 0.5896013864818024\n",
      "Random Forest :Test_score: 0.979917695473251\n"
     ]
    }
   ],
   "source": [
    "for (i, name) in enumerate(m_names):\n",
    "    print(\"{} :Test_score: {}\".format(name, test_score[i]))"
   ]
  },
  {
   "cell_type": "markdown",
   "metadata": {},
   "source": [
    "From the above results, we found that KNN and Random forest show best performance for selected hyperparameters. For Random Forest :best_parameter: {'bootstrap': True, 'criterion': 'gini', 'max_depth': None, 'min_samples_leaf': 2, 'min_samples_split': 6} and for  Nearest Neighbors :best_parameter: {'n_neighbors': 2, 'weights': 'distance'}"
   ]
  },
  {
   "cell_type": "markdown",
   "metadata": {},
   "source": [
    "So the next step is to find way on futher improving the model"
   ]
  },
  {
   "cell_type": "code",
   "execution_count": null,
   "metadata": {
    "collapsed": true
   },
   "outputs": [],
   "source": []
  }
 ],
 "metadata": {
  "kernelspec": {
   "display_name": "Python 3",
   "language": "python",
   "name": "python3"
  },
  "language_info": {
   "codemirror_mode": {
    "name": "ipython",
    "version": 3
   },
   "file_extension": ".py",
   "mimetype": "text/x-python",
   "name": "python",
   "nbconvert_exporter": "python",
   "pygments_lexer": "ipython3",
   "version": "3.6.1"
  }
 },
 "nbformat": 4,
 "nbformat_minor": 2
}
