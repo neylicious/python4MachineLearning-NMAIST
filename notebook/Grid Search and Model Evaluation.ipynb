{
 "cells": [
  {
   "cell_type": "markdown",
   "metadata": {},
   "source": [
    "# 1. Import required libraries"
   ]
  },
  {
   "cell_type": "code",
   "execution_count": 47,
   "metadata": {
    "collapsed": true
   },
   "outputs": [],
   "source": [
    "import pandas as pd\n",
    "import numpy as np\n",
    "import seaborn as sns\n",
    "from scipy.stats import randint as sp_randint\n",
    "import matplotlib\n",
    "import matplotlib.pyplot as plt\n",
    "import matplotlib.cm as cm\n",
    "from pylab import rcParams\n",
    "from sklearn.externals import joblib\n",
    "np.set_printoptions(precision=3)\n",
    "%matplotlib inline"
   ]
  },
  {
   "cell_type": "markdown",
   "metadata": {},
   "source": [
    "# 2. Load cleaned data"
   ]
  },
  {
   "cell_type": "code",
   "execution_count": 2,
   "metadata": {
    "collapsed": true
   },
   "outputs": [],
   "source": [
    "#load cleaned data\n",
    "data = pd.read_csv('data/clean_titanic.csv')"
   ]
  },
  {
   "cell_type": "code",
   "execution_count": 3,
   "metadata": {
    "collapsed": true
   },
   "outputs": [],
   "source": [
    "from sklearn.neighbors import KNeighborsClassifier\n",
    "from sklearn.naive_bayes import GaussianNB\n",
    "from sklearn.linear_model import LogisticRegression\n",
    "from sklearn import tree\n",
    "from sklearn.ensemble import RandomForestClassifier, AdaBoostClassifier\n",
    "from sklearn.metrics import classification_report\n",
    "from sklearn.neural_network import MLPClassifier\n",
    "from sklearn.discriminant_analysis import QuadraticDiscriminantAnalysis as QDA \n",
    "from sklearn.discriminant_analysis import LinearDiscriminantAnalysis as LDA\n",
    "from sklearn import model_selection\n",
    "from sklearn.model_selection import train_test_split\n",
    "from sklearn.metrics import f1_score, accuracy_score"
   ]
  },
  {
   "cell_type": "code",
   "execution_count": 4,
   "metadata": {
    "collapsed": true
   },
   "outputs": [],
   "source": [
    "feature = ['pclass',  'sex', 'age','fare']\n",
    "X = data[feature]\n",
    "y = data.survived\n",
    "X_train, X_test, y_train, y_test = train_test_split(X, y,\n",
    "                                                    test_size=0.20,\n",
    "                                                    random_state=1234)"
   ]
  },
  {
   "cell_type": "markdown",
   "metadata": {},
   "source": [
    "# 3. Hyper-parameter Selection"
   ]
  },
  {
   "cell_type": "markdown",
   "metadata": {},
   "source": [
    "We will be using Grid search to find best hyper-parameters of the model."
   ]
  },
  {
   "cell_type": "markdown",
   "metadata": {},
   "source": [
    "## 3.1 Simple Grid Search\n",
    "Let us start with simple grid search on KNN classifier"
   ]
  },
  {
   "cell_type": "code",
   "execution_count": 24,
   "metadata": {},
   "outputs": [
    {
     "name": "stdout",
     "output_type": "stream",
     "text": [
      "best F-1 score: 0.88\n",
      "best parameter: {'neighbour': 1}\n"
     ]
    }
   ],
   "source": [
    "neighbour = [1,2,3,4,5]\n",
    "best_score = 0\n",
    "for k in neighbour:\n",
    "    knn     =  KNeighborsClassifier(n_neighbors=k)\n",
    "    knn.fit(X_train,y_train)\n",
    "    y_p = knn.predict(X_validation)\n",
    "    f_score = f1_score(y_validation, y_p)\n",
    "    if f_score > best_score:\n",
    "        best_score = f_score\n",
    "        best_parameter = {\"neighbour\":k}\n",
    "print(\"best F-1 score: %.2f\" % best_score)\n",
    "print(\"best parameter: {}\".format(best_parameter))\n",
    "        "
   ]
  },
  {
   "cell_type": "markdown",
   "metadata": {},
   "source": [
    "From the above results the best value of neighbour is 1. However this result can not be generalized to new data.\n",
    "\n",
    "To address this problem it is better to split the data again into three partition namely:\n",
    "- Training set which will be used for building model.\n",
    "- Validation set which will be used for selecting hyper-parameters.\n",
    "- Test set which will be used for model evaluation.\n",
    "\n",
    "as follows:"
   ]
  },
  {
   "cell_type": "code",
   "execution_count": 25,
   "metadata": {},
   "outputs": [
    {
     "name": "stdout",
     "output_type": "stream",
     "text": [
      "Size new training set: 942\n",
      "Size validation set: 105\n",
      "Size test set: 262\n"
     ]
    }
   ],
   "source": [
    "# First we split training set further into training and validation sets\n",
    "X_new_train, X_validation, y_new_train, y_validation = train_test_split(X_train, y_train, test_size=0.10, random_state=42)\n",
    "print(\"Size new training set: %d\" %X_new_train.shape[0])\n",
    "print(\"Size validation set: %d\" %X_validation.shape[0])\n",
    "print(\"Size test set: %d\" %X_test.shape[0])"
   ]
  },
  {
   "cell_type": "code",
   "execution_count": 26,
   "metadata": {},
   "outputs": [
    {
     "name": "stdout",
     "output_type": "stream",
     "text": [
      "best parameter: {'neighbour': 5}\n",
      "best F-1 score on validation: 0.44\n",
      "best F-1 score on test: 0.54\n"
     ]
    }
   ],
   "source": [
    "neighbour = [1,2,3,4,5]\n",
    "best_score = 0\n",
    "for k in neighbour:\n",
    "    knn     =  KNeighborsClassifier(n_neighbors=k)\n",
    "    knn.fit(X_new_train,y_new_train)\n",
    "    y_p = knn.predict(X_validation)\n",
    "    f_score = f1_score(y_validation, y_p)\n",
    "    if f_score > best_score:\n",
    "        best_score = f_score\n",
    "        best_parameter = {\"neighbour\":k}\n",
    "        \n",
    "knn_best = KNeighborsClassifier(n_neighbors=best_parameter['neighbour'])\n",
    "knn_best.fit(X_train, y_train)\n",
    "y_p_test = knn_best.predict(X_test)\n",
    "f_score_test = f1_score(y_test, y_p_test)\n",
    "print(\"best parameter: {}\".format(best_parameter))\n",
    "print(\"best F-1 score on validation: %.2f\" % best_score)\n",
    "print(\"best F-1 score on test: %.2f\" % f_score_test)"
   ]
  },
  {
   "cell_type": "markdown",
   "metadata": {},
   "source": [
    "The limitation of the above approch is on how to split the data into training, validation and test set."
   ]
  },
  {
   "cell_type": "markdown",
   "metadata": {},
   "source": [
    "## 3.2 Grid search with Cross-validation"
   ]
  },
  {
   "cell_type": "code",
   "execution_count": 27,
   "metadata": {},
   "outputs": [
    {
     "name": "stdout",
     "output_type": "stream",
     "text": [
      "best parameter: {'neighbour': 5}\n",
      "best F-1 score on training: 0.57\n",
      "best F-1 score on test: 0.54\n"
     ]
    }
   ],
   "source": [
    "neighbour = [1,2,3,4,5]\n",
    "best_score = 0\n",
    "score='f1'\n",
    "\n",
    "# Find best parameter\n",
    "for k in neighbour:\n",
    "    knn = KNeighborsClassifier(n_neighbors=k)\n",
    "    skfold = model_selection.StratifiedKFold(n_splits=5)\n",
    "    cv_results = model_selection.cross_val_score(knn, X_train, y_train, cv=skfold, scoring=score)\n",
    "    if cv_results.mean() > best_score:\n",
    "        best_score = cv_results.mean()\n",
    "        best_parameter = {\"neighbour\":k}\n",
    "        \n",
    "# evaluate best parameter on test data\n",
    "knn_best = KNeighborsClassifier(n_neighbors=best_parameter['neighbour'])\n",
    "knn_best.fit(X_train, y_train)\n",
    "y_p_test = knn_best.predict(X_test)\n",
    "f_score_test = f1_score(y_test, y_p_test)\n",
    "print(\"best parameter: {}\".format(best_parameter))\n",
    "print(\"best F-1 score on training: %.2f\" % best_score)\n",
    "print(\"best F-1 score on test: %.2f\" % f_score_test)"
   ]
  },
  {
   "cell_type": "markdown",
   "metadata": {},
   "source": [
    "## 3. 2.1 GridSearchCV\n",
    "Despite the fact that the above procedure work, [sklearn](scikit-learn.org) has implemented a grid search class (GridSearchCV) which simply the whole procedure. To use this class:"
   ]
  },
  {
   "cell_type": "code",
   "execution_count": 10,
   "metadata": {
    "collapsed": true
   },
   "outputs": [],
   "source": [
    "from sklearn.model_selection import GridSearchCV"
   ]
  },
  {
   "cell_type": "code",
   "execution_count": 28,
   "metadata": {},
   "outputs": [
    {
     "data": {
      "text/plain": [
       "GridSearchCV(cv=StratifiedKFold(n_splits=5, random_state=None, shuffle=False),\n",
       "       error_score='raise',\n",
       "       estimator=KNeighborsClassifier(algorithm='auto', leaf_size=30, metric='minkowski',\n",
       "           metric_params=None, n_jobs=1, n_neighbors=5, p=2,\n",
       "           weights='uniform'),\n",
       "       fit_params=None, iid=True, n_jobs=1,\n",
       "       param_grid={'n_neighbors': [1, 2, 3, 4, 5]},\n",
       "       pre_dispatch='2*n_jobs', refit=True, return_train_score=True,\n",
       "       scoring='f1', verbose=0)"
      ]
     },
     "execution_count": 28,
     "metadata": {},
     "output_type": "execute_result"
    }
   ],
   "source": [
    "neighbour = [1,2,3,4,5]\n",
    "best_score = 0\n",
    "score='f1'\n",
    "parameter = {'n_neighbors':neighbour}\n",
    "skfold = model_selection.StratifiedKFold(n_splits=5)\n",
    "knn = KNeighborsClassifier()\n",
    "gridCV = GridSearchCV(knn, param_grid=parameter, scoring=score, cv=skfold)\n",
    "gridCV.fit(X_train, y_train)"
   ]
  },
  {
   "cell_type": "code",
   "execution_count": 31,
   "metadata": {},
   "outputs": [
    {
     "name": "stdout",
     "output_type": "stream",
     "text": [
      "Test score: 0.54\n",
      "Training score: 0.57\n",
      "Best parameter: 5\n"
     ]
    }
   ],
   "source": [
    "print(\"Test score: %.2f\" %gridCV.score(X_test,y_test))\n",
    "print(\"Training score: %.2f\" %gridCV.best_score_)\n",
    "print(\"Best parameter: %d\" %gridCV.best_params_['n_neighbors'])"
   ]
  },
  {
   "cell_type": "markdown",
   "metadata": {},
   "source": [
    "Grid search is only suitable when you have few hyperparameter search space. Let us explore other type of grid search with Random grid search."
   ]
  },
  {
   "cell_type": "markdown",
   "metadata": {},
   "source": [
    "## 3.2.2 RandomizedSearchCV\n",
    "RandomizedSearchCV is the best when the hyperparameter search space is large. Unlike GridSearchCV, RandomizedSearchCV evaluate a given number of random combination by selection random value for each hyperparameter."
   ]
  },
  {
   "cell_type": "code",
   "execution_count": 32,
   "metadata": {},
   "outputs": [
    {
     "data": {
      "text/plain": [
       "RandomizedSearchCV(cv=StratifiedKFold(n_splits=5, random_state=None, shuffle=False),\n",
       "          error_score='raise',\n",
       "          estimator=KNeighborsClassifier(algorithm='auto', leaf_size=30, metric='minkowski',\n",
       "           metric_params=None, n_jobs=1, n_neighbors=5, p=2,\n",
       "           weights='uniform'),\n",
       "          fit_params=None, iid=True, n_iter=5, n_jobs=1,\n",
       "          param_distributions={'n_neighbors': [1, 2, 3, 4, 5]},\n",
       "          pre_dispatch='2*n_jobs', random_state=None, refit=True,\n",
       "          return_train_score=True, scoring='f1', verbose=0)"
      ]
     },
     "execution_count": 32,
     "metadata": {},
     "output_type": "execute_result"
    }
   ],
   "source": [
    "from sklearn.model_selection import RandomizedSearchCV\n",
    "neighbour = [1,2,3,4,5]\n",
    "best_score = 0\n",
    "score='f1'\n",
    "parameter = {'n_neighbors':neighbour}\n",
    "skfold = model_selection.StratifiedKFold(n_splits=5)\n",
    "knn = KNeighborsClassifier()\n",
    "gridRandom = RandomizedSearchCV(knn, parameter, scoring=score, cv=skfold, n_iter=5)\n",
    "gridRandom.fit(X_train,y_train)"
   ]
  },
  {
   "cell_type": "code",
   "execution_count": 34,
   "metadata": {},
   "outputs": [
    {
     "name": "stdout",
     "output_type": "stream",
     "text": [
      "Test score: 0.57\n",
      "Training score: 0.57\n",
      "Best parameter: 5\n"
     ]
    }
   ],
   "source": [
    "print(\"Test score: %.2f\" %gridRandom.score(X_validation,y_validation))\n",
    "print(\"Training score: %.2f\" %gridRandom.best_score_)\n",
    "print(\"Best parameter: %d\" %gridRandom.best_params_['n_neighbors'])"
   ]
  },
  {
   "cell_type": "markdown",
   "metadata": {
    "collapsed": true
   },
   "source": [
    "We will use RandomizedSearchCV to select best hyperparameters of the selected models (KNN and Random Forest)"
   ]
  },
  {
   "cell_type": "markdown",
   "metadata": {},
   "source": [
    "# 4. Model Hyperparameters tuning\n",
    "\n",
    "Random Forest hyperparameters \n",
    "- n_estimator : Number of decision trees\n",
    "- max_feautures: Number of feautures to consider\n",
    "- criterion : Function used to measure the quality\n",
    "- min_weight_fraction_leaf : Minimum number of samples\n",
    "\n",
    "KNN\n",
    "- weight : Function to weight the neighbour\n",
    "- n_neighbour: Number of neighbour to use\n",
    "\n"
   ]
  },
  {
   "cell_type": "code",
   "execution_count": 35,
   "metadata": {
    "collapsed": true
   },
   "outputs": [],
   "source": [
    "# specify parameters and distributions to sample from\n",
    "param_rf = {\"max_depth\": [3, None],\n",
    "              \"min_samples_split\": sp_randint(2, 11),\n",
    "              \"min_samples_leaf\": sp_randint(1, 11),\n",
    "              \"bootstrap\": [True, False],\n",
    "              \"criterion\": [\"gini\", \"entropy\"]}\n",
    "\n",
    "param_knn = {\n",
    "              \"weights\": ['uniform', 'distance'],\n",
    "              \"n_neighbors\":  sp_randint(1, 10)\n",
    "           }\n"
   ]
  },
  {
   "cell_type": "code",
   "execution_count": 36,
   "metadata": {
    "collapsed": true
   },
   "outputs": [],
   "source": [
    "def random_parameter_search(X_train,y_train, X_test, y_test, score='f1'):\n",
    "    knn     =  KNeighborsClassifier()\n",
    "    rForest =  RandomForestClassifier()\n",
    "    \n",
    "    m_names = [\"Nearest Neighbors\",\n",
    "                   \"Random Forest\",\n",
    "                   ]\n",
    "               \n",
    "    \n",
    "    models = [knn, rForest]\n",
    "   \n",
    "    \n",
    "    parameter = [param_knn, param_rf]\n",
    "    \n",
    "    test_score  = []\n",
    "    train_score = []\n",
    "    best_parameter =[]\n",
    "    \n",
    "    for (i,model) in enumerate(models):\n",
    "        print(\"Run %d model: %s\" %(i,m_names[i]))\n",
    "        skfold = model_selection.StratifiedKFold(n_splits=5)\n",
    "        gridRandom = RandomizedSearchCV(model, parameter[i], scoring=score, cv=skfold, n_iter=10)\n",
    "        gridRandom.fit(X_train,y_train)\n",
    "        test_score.append(gridRandom.score(X_test,y_test))\n",
    "        train_score.append(gridRandom.best_score_)\n",
    "        best_parameter.append(gridRandom.best_params_)\n",
    "        \n",
    "    return m_names, test_score, train_score, best_parameter   "
   ]
  },
  {
   "cell_type": "code",
   "execution_count": 37,
   "metadata": {},
   "outputs": [
    {
     "name": "stdout",
     "output_type": "stream",
     "text": [
      "Run 0 model: Nearest Neighbors\n",
      "Run 1 model: Random Forest\n"
     ]
    }
   ],
   "source": [
    "m_names, test_score, train_score, best_parameter = random_parameter_search(X_train,y_train, X_validation, y_validation, score='f1')"
   ]
  },
  {
   "cell_type": "code",
   "execution_count": 41,
   "metadata": {
    "collapsed": true
   },
   "outputs": [],
   "source": [
    "def plotbar(plot_name, names, result,title,ylabel):\n",
    "    postion = np.arange(len(names))\n",
    "    plt.bar(postion, result, align='center', color ='g')\n",
    "    plt.xticks(postion, names, rotation=0)\n",
    "    plt.ylabel(ylabel)\n",
    "    plt.title(title)"
   ]
  },
  {
   "cell_type": "code",
   "execution_count": 42,
   "metadata": {
    "collapsed": true
   },
   "outputs": [],
   "source": [
    "names = ['KNN','RForest']"
   ]
  },
  {
   "cell_type": "code",
   "execution_count": 43,
   "metadata": {},
   "outputs": [
    {
     "data": {
      "image/png": "[encoded data removed]",
      "text/plain": [
       "<matplotlib.figure.Figure at 0x2b6dd6af470>"
      ]
     },
     "metadata": {},
     "output_type": "display_data"
    }
   ],
   "source": [
    "plotbar(\"Hyper_perfomance\", names, test_score, \"F-1 Score Performance\", \"F-Score \\n (Higher is better)\")"
   ]
  },
  {
   "cell_type": "code",
   "execution_count": 44,
   "metadata": {},
   "outputs": [
    {
     "data": {
      "image/png": "[encoded data removed]",
      "text/plain": [
       "<matplotlib.figure.Figure at 0x2b6dd864240>"
      ]
     },
     "metadata": {},
     "output_type": "display_data"
    }
   ],
   "source": [
    "plotbar(\"Hyper_perfomance_training\", names, train_score, \"Training F-1 Score Performance\", \"F-Score \\n (Higher is better)\")"
   ]
  },
  {
   "cell_type": "code",
   "execution_count": 45,
   "metadata": {},
   "outputs": [
    {
     "name": "stdout",
     "output_type": "stream",
     "text": [
      "Model: Nearest Neighbors :best_parameter: {'n_neighbors': 9, 'weights': 'uniform'}\n",
      "Model: Random Forest :best_parameter: {'bootstrap': False, 'criterion': 'entropy', 'max_depth': None, 'min_samples_leaf': 2, 'min_samples_split': 8}\n"
     ]
    }
   ],
   "source": [
    "for (i, name) in enumerate(m_names):\n",
    "    print(\"Model: {} :best_parameter: {}\".format(name, best_parameter[i]))"
   ]
  },
  {
   "cell_type": "code",
   "execution_count": 46,
   "metadata": {},
   "outputs": [
    {
     "name": "stdout",
     "output_type": "stream",
     "text": [
      "Nearest Neighbors :Test_score: 0.5714285714285715\n",
      "Random Forest :Test_score: 0.823529411764706\n"
     ]
    }
   ],
   "source": [
    "for (i, name) in enumerate(m_names):\n",
    "    print(\"{} :Test_score: {}\".format(name, test_score[i]))"
   ]
  },
  {
   "cell_type": "markdown",
   "metadata": {},
   "source": [
    "From the above results, we found that Random forest show best performance for selected hyperparameters {'bootstrap': False, 'criterion': 'entropy', 'max_depth': None, 'min_samples_leaf': 2, 'min_samples_split': 8}"
   ]
  },
  {
   "cell_type": "markdown",
   "metadata": {},
   "source": [
    "So finally we have our best improved model."
   ]
  },
  {
   "cell_type": "markdown",
   "metadata": {},
   "source": [
    "## Compare the tuned model and the previous one and save trained model on disk"
   ]
  },
  {
   "cell_type": "code",
   "execution_count": 54,
   "metadata": {
    "collapsed": true
   },
   "outputs": [],
   "source": [
    "def classifiers(X_train, y_train, X_validation, y_validation, score='f1'):\n",
    "    rforest =  RandomForestClassifier()\n",
    "    rforest_tuned =  RandomForestClassifier(criterion='entropy', max_depth=None,\n",
    "                                            min_samples_leaf=2, min_samples_split=8,bootstrap=False)\n",
    "    model_names = [\"RForest_old\",\"RForest_tuned\"]\n",
    "    \n",
    "    models = [rforest, rforest_tuned]\n",
    "    \n",
    "    name= []\n",
    "    results=[]\n",
    "    avg_results = []\n",
    "    f_score_test= []\n",
    "   \n",
    "    for (i,model) in enumerate(models):\n",
    "      \n",
    "        skfold = model_selection.StratifiedKFold(n_splits=5)\n",
    "        cv_results = model_selection.cross_val_score(model, X_train, y_train, cv=skfold, scoring=score)\n",
    "        results.append(cv_results)\n",
    "        avg_results.append(cv_results.mean())\n",
    "        msg = \"%s: %f\" % (model_names[i], cv_results.mean())\n",
    "        print(msg)\n",
    "        \n",
    "        # save the model to disk\n",
    "        filename = 'model/%s.sav' %(model_names[i])\n",
    "        joblib.dump(model, filename)\n",
    "        \n",
    "        print(\"Run validation perfomance\")\n",
    "        model.fit(X_train, y_train)\n",
    "        y_p = model.predict(X_validation)\n",
    "        f_score = f1_score(y_validation, y_p)\n",
    "        f_score_test.append(f_score)\n",
    "    \n",
    "        \n",
    "        \n",
    "    \n",
    "    return avg_results, model_names, f_score_test "
   ]
  },
  {
   "cell_type": "markdown",
   "metadata": {},
   "source": [
    "##### Run the above code"
   ]
  },
  {
   "cell_type": "code",
   "execution_count": 55,
   "metadata": {},
   "outputs": [
    {
     "name": "stdout",
     "output_type": "stream",
     "text": [
      "RForest_old: 0.702016\n",
      "Run validation perfomance\n",
      "RForest_tuned: 0.716275\n",
      "Run validation perfomance\n"
     ]
    }
   ],
   "source": [
    "result, names, test_score  = classifiers(X_train,y_train, X_validation, y_validation, score='f1')"
   ]
  },
  {
   "cell_type": "code",
   "execution_count": 57,
   "metadata": {},
   "outputs": [
    {
     "data": {
      "image/png": "[encoded data removed]",
      "text/plain": [
       "<matplotlib.figure.Figure at 0x2b6dd814550>"
      ]
     },
     "metadata": {},
     "output_type": "display_data"
    }
   ],
   "source": [
    "plotbar(\"_perfomance_training\", names, result, \"Training F-1 Score Performance\", \"F-Score \\n (Higher is better)\")\n"
   ]
  },
  {
   "cell_type": "code",
   "execution_count": 58,
   "metadata": {},
   "outputs": [
    {
     "data": {
      "image/png": "[encoded data removed]",
      "text/plain": [
       "<matplotlib.figure.Figure at 0x2b6dd841320>"
      ]
     },
     "metadata": {},
     "output_type": "display_data"
    }
   ],
   "source": [
    "plotbar(\"_perfomance_validation\", names, test_score, \"Validation F-1 Score Performance\", \"F-Score \\n (Higher is better)\")"
   ]
  },
  {
   "cell_type": "code",
   "execution_count": 60,
   "metadata": {},
   "outputs": [],
   "source": [
    "def test_classifiers(X_test,y_test):\n",
    "    rforest = joblib.load('model/RForest_old.sav')\n",
    "    rforest_tuned = joblib.load('model/RForest_tuned.sav')\n",
    "    model_names = [\"RForest_old\",\"RForest_tuned\"]\n",
    "    \n",
    "    models = [rforest, rforest_tuned]\n",
    "    \n",
    "   \n",
    "    f_score_test= []\n",
    "   \n",
    "    for (i,model) in enumerate(models):\n",
    "      \n",
    "        y_p= model.predict(X_test)\n",
    "        f_score_test.append(f1_score(y_test, y_p))\n",
    "    \n",
    "    return model_names, f_score_test "
   ]
  },
  {
   "cell_type": "code",
   "execution_count": 62,
   "metadata": {},
   "outputs": [
    {
     "data": {
      "image/png": "[encoded data removed]",
      "text/plain": [
       "<matplotlib.figure.Figure at 0x2b6dd87c940>"
      ]
     },
     "metadata": {},
     "output_type": "display_data"
    }
   ],
   "source": [
    "names, test_score = test_classifiers(X_test, y_test)\n",
    "plotbar(\"_perfomance_test\", names, test_score, \"Test F-1 Score Performance\", \"F-Score \\n (Higher is better)\")"
   ]
  },
  {
   "cell_type": "markdown",
   "metadata": {},
   "source": [
    "## 5. Save and Load Model"
   ]
  },
  {
   "cell_type": "markdown",
   "metadata": {},
   "source": [
    "[Save and Load Model](https://machinelearningmastery.com/save-load-machine-learning-models-python-scikit-learn/)"
   ]
  },
  {
   "cell_type": "code",
   "execution_count": 63,
   "metadata": {
    "collapsed": true
   },
   "outputs": [],
   "source": [
    "rforest = joblib.load('model/RForest_tuned.sav')"
   ]
  },
  {
   "cell_type": "markdown",
   "metadata": {},
   "source": [
    "## 6. Demo"
   ]
  },
  {
   "cell_type": "code",
   "execution_count": null,
   "metadata": {
    "collapsed": true
   },
   "outputs": [],
   "source": []
  }
 ],
 "metadata": {
  "kernelspec": {
   "display_name": "Python 3",
   "language": "python",
   "name": "python3"
  },
  "language_info": {
   "codemirror_mode": {
    "name": "ipython",
    "version": 3
   },
   "file_extension": ".py",
   "mimetype": "text/x-python",
   "name": "python",
   "nbconvert_exporter": "python",
   "pygments_lexer": "ipython3",
   "version": "3.6.1"
  }
 },
 "nbformat": 4,
 "nbformat_minor": 2
}
