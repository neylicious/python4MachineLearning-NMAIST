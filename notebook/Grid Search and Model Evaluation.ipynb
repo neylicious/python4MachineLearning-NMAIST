{
 "cells": [
  {
   "cell_type": "markdown",
   "metadata": {},
   "source": [
    "# 1. Import required libraries"
   ]
  },
  {
   "cell_type": "code",
   "execution_count": 1,
   "metadata": {
    "collapsed": true
   },
   "outputs": [],
   "source": [
    "import numpy as np\n",
    "import pandas as pd\n",
    "import matplotlib.pyplot as plt\n",
    "%matplotlib inline\n",
    "\n",
    "# Set the style globally\n",
    "# Alternatives include bmh, fivethirtyeight, ggplot,\n",
    "# dark_background, seaborn-deep, etc\n",
    "plt.style.use('seaborn-white')\n",
    "plt.rcParams['font.family'] = 'serif'\n",
    "plt.rcParams['font.serif'] = 'Ubuntu'\n",
    "plt.rcParams['font.monospace'] = 'Ubuntu Mono'\n",
    "plt.rcParams['font.size'] = 10\n",
    "plt.rcParams['axes.labelsize'] = 10\n",
    "plt.rcParams['axes.labelweight'] = 'bold'\n",
    "plt.rcParams['xtick.labelsize'] = 10\n",
    "plt.rcParams['ytick.labelsize'] = 10\n",
    "plt.rcParams['legend.fontsize'] = 10\n",
    "plt.rcParams['figure.titlesize'] = 12\n",
    "plt.rcParams['figure.figsize'] = 8, 6\n",
    "\n",
    "np.random.seed(0)"
   ]
  },
  {
   "cell_type": "code",
   "execution_count": 10,
   "metadata": {
    "collapsed": true
   },
   "outputs": [],
   "source": [
    "from sklearn.neighbors import KNeighborsClassifier\n",
    "from sklearn.naive_bayes import GaussianNB\n",
    "from sklearn.linear_model import LogisticRegression\n",
    "from sklearn import tree\n",
    "from sklearn.ensemble import RandomForestClassifier, AdaBoostClassifier\n",
    "from sklearn.metrics import classification_report\n",
    "from sklearn.neural_network import MLPClassifier\n",
    "from sklearn.discriminant_analysis import QuadraticDiscriminantAnalysis as QDA \n",
    "from sklearn.discriminant_analysis import LinearDiscriminantAnalysis as LDA\n",
    "from sklearn import model_selection\n",
    "from sklearn.model_selection import train_test_split\n",
    "from sklearn.metrics import f1_score, accuracy_score\n",
    "from sklearn.externals import joblib"
   ]
  },
  {
   "cell_type": "markdown",
   "metadata": {},
   "source": [
    "# 2. Load cleaned data"
   ]
  },
  {
   "cell_type": "code",
   "execution_count": 5,
   "metadata": {
    "collapsed": true
   },
   "outputs": [],
   "source": [
    "data = pd.read_csv('data/clean_titanic.csv')"
   ]
  },
  {
   "cell_type": "markdown",
   "metadata": {},
   "source": [
    "### Spilit into training, validation and test set\n",
    "\n",
    "we will split our data set into the following parts: (60% - train set, 20% - validation set, 20% - test set):"
   ]
  },
  {
   "cell_type": "code",
   "execution_count": 6,
   "metadata": {
    "collapsed": true
   },
   "outputs": [],
   "source": [
    "train, validate, test = np.split(data.sample(frac=1), [int(.6*len(data)), int(.8*len(data))])"
   ]
  },
  {
   "cell_type": "code",
   "execution_count": 8,
   "metadata": {
    "collapsed": true
   },
   "outputs": [],
   "source": [
    "feature = ['pclass',  'sex', 'age','fare']\n",
    "X_train = train[feature]\n",
    "y_train = train.survived\n",
    "X_val   = validate[feature]\n",
    "y_val   = validate.survived"
   ]
  },
  {
   "cell_type": "markdown",
   "metadata": {},
   "source": [
    "# 3. Hyper-parameter Selection"
   ]
  },
  {
   "cell_type": "markdown",
   "metadata": {},
   "source": [
    "We will be using Grid search to find best hyper-parameters of the model."
   ]
  },
  {
   "cell_type": "markdown",
   "metadata": {},
   "source": [
    "## 3.1 Grid search with Cross-validation"
   ]
  },
  {
   "cell_type": "markdown",
   "metadata": {},
   "source": [
    "## 3. 2.1 GridSearchCV\n",
    "[Sklearn](scikit-learn.org) has implemented a grid search class (GridSearchCV) which simply the whole procedure. To use this class:"
   ]
  },
  {
   "cell_type": "code",
   "execution_count": 7,
   "metadata": {
    "collapsed": true
   },
   "outputs": [],
   "source": [
    "from sklearn.model_selection import GridSearchCV"
   ]
  },
  {
   "cell_type": "code",
   "execution_count": 8,
   "metadata": {},
   "outputs": [
    {
     "data": {
      "text/plain": [
       "GridSearchCV(cv=StratifiedKFold(n_splits=10, random_state=None, shuffle=False),\n",
       "       error_score='raise',\n",
       "       estimator=RandomForestClassifier(bootstrap=True, class_weight=None, criterion='gini',\n",
       "            max_depth=None, max_features='auto', max_leaf_nodes=None,\n",
       "            min_impurity_decrease=0.0, min_impurity_split=None,\n",
       "            min_samples_leaf=1, min_samples_split=2,\n",
       "            min_weight_fraction_leaf=0.0, n_estimators=10, n_jobs=1,\n",
       "            oob_score=False, random_state=None, verbose=0,\n",
       "            warm_start=False),\n",
       "       fit_params=None, iid=True, n_jobs=1,\n",
       "       param_grid={'max_depth': [3, None], 'min_samples_split': [2, 3, 10], 'min_samples_leaf': [1, 3, 10], 'bootstrap': [True, False], 'criterion': ['gini', 'entropy']},\n",
       "       pre_dispatch='2*n_jobs', refit=True, return_train_score=True,\n",
       "       scoring='f1', verbose=0)"
      ]
     },
     "execution_count": 8,
     "metadata": {},
     "output_type": "execute_result"
    }
   ],
   "source": [
    "score='f1'\n",
    "parameter = {\"max_depth\": [3, None],\n",
    "              \"min_samples_split\": [2, 3, 10],\n",
    "              \"min_samples_leaf\": [1, 3, 10],\n",
    "              \"bootstrap\": [True, False],\n",
    "              \"criterion\": [\"gini\", \"entropy\"]}\n",
    "skfold = model_selection.StratifiedKFold(n_splits=10)\n",
    "rForest =  RandomForestClassifier()\n",
    "gridCV = GridSearchCV(rForest, param_grid=parameter, scoring=score, cv=skfold)\n",
    "gridCV.fit(X_train, y_train)"
   ]
  },
  {
   "cell_type": "code",
   "execution_count": 9,
   "metadata": {},
   "outputs": [
    {
     "name": "stdout",
     "output_type": "stream",
     "text": [
      "Validation best score: 0.63\n",
      "Training best score: 0.73\n",
      "Best parameter: {'bootstrap': True, 'criterion': 'gini', 'max_depth': None, 'min_samples_leaf': 1, 'min_samples_split': 10}\n"
     ]
    }
   ],
   "source": [
    "print(\"Validation best score: %.2f\" %gridCV.score(X_val,y_val))\n",
    "print(\"Training best score: %.2f\" %gridCV.best_score_)\n",
    "print(\"Best parameter: {}\" .format(gridCV.best_params_))"
   ]
  },
  {
   "cell_type": "markdown",
   "metadata": {},
   "source": [
    "Grid search is only suitable when you have few hyperparameter search space. Let us explore other type of grid search with Random grid search."
   ]
  },
  {
   "cell_type": "markdown",
   "metadata": {},
   "source": [
    "## 3.2.2 RandomizedSearchCV\n",
    "RandomizedSearchCV is the best when the hyperparameter search space is large. Unlike GridSearchCV, RandomizedSearchCV evaluate a given number of random combination by selection random value for each hyperparameter."
   ]
  },
  {
   "cell_type": "code",
   "execution_count": 10,
   "metadata": {},
   "outputs": [
    {
     "data": {
      "text/plain": [
       "RandomizedSearchCV(cv=StratifiedKFold(n_splits=10, random_state=None, shuffle=False),\n",
       "          error_score='raise',\n",
       "          estimator=RandomForestClassifier(bootstrap=True, class_weight=None, criterion='gini',\n",
       "            max_depth=None, max_features='auto', max_leaf_nodes=None,\n",
       "            min_impurity_decrease=0.0, min_impurity_split=None,\n",
       "            min_samples_leaf=1, min_samples_split=2,\n",
       "            min_weight_fraction_leaf=0.0, n_estimators=10, n_jobs=1,\n",
       "            oob_score=False, random_state=None, verbose=0,\n",
       "            warm_start=False),\n",
       "          fit_params=None, iid=True, n_iter=5, n_jobs=1,\n",
       "          param_distributions={'max_depth': [3, None], 'min_samples_split': <scipy.stats._distn_infrastructure.rv_frozen object at 0x7fc70e577860>, 'min_samples_leaf': <scipy.stats._distn_infrastructure.rv_frozen object at 0x7fc70e631cc0>, 'bootstrap': [True, False], 'criterion': ['gini', 'entropy']},\n",
       "          pre_dispatch='2*n_jobs', random_state=None, refit=True,\n",
       "          return_train_score=True, scoring='f1', verbose=0)"
      ]
     },
     "execution_count": 10,
     "metadata": {},
     "output_type": "execute_result"
    }
   ],
   "source": [
    "from sklearn.model_selection import RandomizedSearchCV\n",
    "from scipy.stats import randint as sp_randint\n",
    "\n",
    "# specify parameters and distributions to sample from\n",
    "parameter = {\"max_depth\": [3, None],\n",
    "              \"min_samples_split\": sp_randint(2, 11),\n",
    "              \"min_samples_leaf\": sp_randint(1, 11),\n",
    "              \"bootstrap\": [True, False],\n",
    "              \"criterion\": [\"gini\", \"entropy\"]}\n",
    "\n",
    "score='f1'\n",
    "skfold = model_selection.StratifiedKFold(n_splits=10)\n",
    "rForest =  RandomForestClassifier()\n",
    "gridRandom = RandomizedSearchCV(rForest, parameter, scoring=score, cv=skfold, n_iter=5)\n",
    "gridRandom.fit(X_train,y_train)"
   ]
  },
  {
   "cell_type": "code",
   "execution_count": 12,
   "metadata": {},
   "outputs": [
    {
     "name": "stdout",
     "output_type": "stream",
     "text": [
      "Validation best score: 0.62\n",
      "Training best score: 0.71\n",
      "Best parameter: {'bootstrap': False, 'criterion': 'gini', 'max_depth': None, 'min_samples_leaf': 4, 'min_samples_split': 2}\n"
     ]
    }
   ],
   "source": [
    "print(\"Validation best score: %.2f\" %gridRandom.score(X_val,y_val))\n",
    "print(\"Training best score: %.2f\" %gridRandom.best_score_)\n",
    "print(\"Best parameter: {}\" .format(gridRandom.best_params_))"
   ]
  },
  {
   "cell_type": "markdown",
   "metadata": {
    "collapsed": true
   },
   "source": [
    "We will use RandomizedSearchCV to select best hyperparameters of the selected models (KNN and Random Forest)"
   ]
  },
  {
   "cell_type": "markdown",
   "metadata": {},
   "source": [
    "# 4. Train the tuned model with best parameter and [save trained model](https://machinelearningmastery.com/save-load-machine-learning-models-python-scikit-learn/) on disk\n",
    "\n",
    "\n"
   ]
  },
  {
   "cell_type": "code",
   "execution_count": 14,
   "metadata": {
    "collapsed": true
   },
   "outputs": [],
   "source": [
    "train_new = pd.concat([train, validate])"
   ]
  },
  {
   "cell_type": "code",
   "execution_count": 15,
   "metadata": {
    "collapsed": true
   },
   "outputs": [],
   "source": [
    "X_train_new = train_new[feature]\n",
    "y_train_new = train_new.survived\n",
    "X_test = test[feature]\n",
    "y_test = test.survived"
   ]
  },
  {
   "cell_type": "code",
   "execution_count": 38,
   "metadata": {
    "collapsed": true
   },
   "outputs": [],
   "source": [
    "def build_classifiers(X_train, y_train, X_test, y_test, score='f1'):\n",
    "    rforest =  RandomForestClassifier()\n",
    "    rforest_tuned =  RandomForestClassifier(criterion='gini', max_depth=None,\n",
    "                                            min_samples_leaf=6, min_samples_split=10,bootstrap=False)\n",
    "    model_names = [\"RForest_old\",\"RForest_tuned\"]\n",
    "    models = [rforest, rforest_tuned]\n",
    "    \n",
    "    avg_results = []\n",
    "    f_score_test = []\n",
    "   \n",
    "    for (i,model) in enumerate(models):\n",
    "      \n",
    "        skfold = model_selection.StratifiedKFold(n_splits=10)\n",
    "        cv_results = model_selection.cross_val_score(model, X_train, y_train, cv=skfold, scoring=score)\n",
    "        avg_results.append(cv_results.mean())\n",
    "        msg = \"%s: %f\" % (model_names[i], cv_results.mean())\n",
    "        print(msg)\n",
    "        \n",
    "        model.fit(X_train, y_train)\n",
    "        y_p= model.predict(X_test)\n",
    "        f_score_test.append(f1_score(y_test, y_p))\n",
    "        filename = 'model/%s.sav' %(model_names[i])\n",
    "        joblib.dump(model, filename)\n",
    "        \n",
    "    return avg_results, model_names, f_score_test  "
   ]
  },
  {
   "cell_type": "code",
   "execution_count": 39,
   "metadata": {},
   "outputs": [
    {
     "name": "stdout",
     "output_type": "stream",
     "text": [
      "RForest_old: 0.695924\n",
      "RForest_tuned: 0.713520\n"
     ]
    }
   ],
   "source": [
    "result, names, test_score  = build_classifiers(X_train,y_train,X_test, y_test, score='f1')"
   ]
  },
  {
   "cell_type": "code",
   "execution_count": 40,
   "metadata": {
    "collapsed": true
   },
   "outputs": [],
   "source": [
    "def plotbar(plot_name, names, result,title,ylabel):\n",
    "    postion = np.arange(len(names))\n",
    "    plt.bar(postion, result, align='center', color ='g')\n",
    "    plt.xticks(postion, names, rotation=90)\n",
    "    plt.ylabel(ylabel)\n",
    "    plt.ylim(0,1)\n",
    "    plt.title(title)\n",
    "    #plt.savefig('image/%s.pdf' %(plot_name), format='pdf')"
   ]
  },
  {
   "cell_type": "code",
   "execution_count": 41,
   "metadata": {},
   "outputs": [
    {
     "data": {
      "image/png": "[encoded data removed]",
      "text/plain": [
       "<matplotlib.figure.Figure at 0x7fc70ba68b00>"
      ]
     },
     "metadata": {},
     "output_type": "display_data"
    }
   ],
   "source": [
    "plotbar(\"_perfomance_training\", names, result, \"Training F-1 Score Performance\", \"F-Score \\n (Higher is better)\")"
   ]
  },
  {
   "cell_type": "code",
   "execution_count": 42,
   "metadata": {},
   "outputs": [
    {
     "data": {
      "image/png": "[encoded data removed]",
      "text/plain": [
       "<matplotlib.figure.Figure at 0x7fc70bb91f28>"
      ]
     },
     "metadata": {},
     "output_type": "display_data"
    }
   ],
   "source": [
    "plotbar(\"_perfomance_test\", names, test_score, \"Training F-1 Score Performance\", \"F-Score \\n (Higher is better)\")"
   ]
  },
  {
   "cell_type": "code",
   "execution_count": 9,
   "metadata": {},
   "outputs": [],
   "source": [
    "X = test[feature].iloc[1]"
   ]
  },
  {
   "cell_type": "markdown",
   "metadata": {},
   "source": [
    "## 6. Demo"
   ]
  },
  {
   "cell_type": "code",
   "execution_count": null,
   "metadata": {},
   "outputs": [
    {
     "name": "stdout",
     "output_type": "stream",
     "text": [
      "Enter row number or type exit to quit \t:0\n",
      "I am using the following features to predict: pclass     1.0000\n",
      "sex        0.0000\n",
      "age       44.0000\n",
      "fare      57.9792\n",
      "Name: 160, dtype: float64\n",
      "Predicted label: 1\n",
      "The true label:  1\n",
      "Perfect ML is cool\n",
      "Enter row number or type exit to quit \t:45678999\n",
      "Check the number of rows and type again\n"
     ]
    }
   ],
   "source": [
    "rforest = joblib.load('model/RForest_tuned.sav')\n",
    "while True:\n",
    "    row = input('Enter row number or type exit to quit \\t:')\n",
    "    if row == \"exit\":\n",
    "        print(\"Goodbye that is how ML works\")\n",
    "        break\n",
    "    elif int(row) > len(test):\n",
    "        print(\"Check the number of rows and type again\")\n",
    "        \n",
    "    else:\n",
    "        i=int(row)\n",
    "        X = test[feature].iloc[i]\n",
    "        print(\"I am using the following features to predict: {}\".format(X))\n",
    "        y = test.survived.iloc[i]\n",
    "        X = X[:, np.newaxis]\n",
    "        y_p = rforest.predict(X.T)\n",
    "        print(\"Predicted label: {}\".format(y_p[0]))\n",
    "        print(\"The true label:  {}\".format(y))\n",
    "        if y== y_p:\n",
    "            print(\"Perfect ML is cool\")\n",
    "        else:\n",
    "            print(\"ML sometimes fails\")\n",
    "        \n",
    "        "
   ]
  },
  {
   "cell_type": "code",
   "execution_count": null,
   "metadata": {
    "collapsed": true
   },
   "outputs": [],
   "source": []
  }
 ],
 "metadata": {
  "kernelspec": {
   "display_name": "Python 3",
   "language": "python",
   "name": "python3"
  },
  "language_info": {
   "codemirror_mode": {
    "name": "ipython",
    "version": 3
   },
   "file_extension": ".py",
   "mimetype": "text/x-python",
   "name": "python",
   "nbconvert_exporter": "python",
   "pygments_lexer": "ipython3",
   "version": "3.6.0"
  }
 },
 "nbformat": 4,
 "nbformat_minor": 2
}
