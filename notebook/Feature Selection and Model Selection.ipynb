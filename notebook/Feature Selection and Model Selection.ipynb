{
 "cells": [
  {
   "cell_type": "code",
   "execution_count": 1,
   "metadata": {
    "collapsed": true
   },
   "outputs": [],
   "source": [
    "import numpy as np\n",
    "import pandas as pd\n",
    "import matplotlib.pyplot as plt\n",
    "%matplotlib inline\n",
    "\n",
    "# Set the style globally\n",
    "# Alternatives include bmh, fivethirtyeight, ggplot,\n",
    "# dark_background, seaborn-deep, etc\n",
    "plt.style.use('seaborn-white')\n",
    "plt.rcParams['font.family'] = 'serif'\n",
    "plt.rcParams['font.serif'] = 'Ubuntu'\n",
    "plt.rcParams['font.monospace'] = 'Ubuntu Mono'\n",
    "plt.rcParams['font.size'] = 10\n",
    "plt.rcParams['axes.labelsize'] = 10\n",
    "plt.rcParams['axes.labelweight'] = 'bold'\n",
    "plt.rcParams['xtick.labelsize'] = 10\n",
    "plt.rcParams['ytick.labelsize'] = 10\n",
    "plt.rcParams['legend.fontsize'] = 10\n",
    "plt.rcParams['figure.titlesize'] = 12\n",
    "plt.rcParams['figure.figsize'] = 8, 6"
   ]
  },
  {
   "cell_type": "code",
   "execution_count": 2,
   "metadata": {
    "collapsed": true
   },
   "outputs": [],
   "source": [
    "#load cleaned data\n",
    "data = pd.read_csv('data/clean_titanic.csv')"
   ]
  },
  {
   "cell_type": "markdown",
   "metadata": {},
   "source": [
    "# 1. Automatic Feature Selection\n",
    "\n",
    "Feature selection is a process where you automatically select those features in your data that contribute most to the prediction variable or output in which you are interested.\n",
    "\n",
    "Having too many irrelevant features in your data can decrease the accuracy of the models. \n",
    "\n",
    "Three benefits of performing feature selection before modeling your data are:\n",
    "\n",
    "* Reduces Overfitting: Less redundant data means less opportunity to make decisions based on noise.\n",
    "* Improves Accuracy: Less misleading data means modeling accuracy improves.\n",
    "* Reduces Training Time: Less data means that algorithms train faster.\n",
    "\n",
    "You can use the following approach\n",
    "\n",
    "- Univariate statistics: Check statisticall significance relation between feature and target\n",
    "- Model-base selection:\n",
    "- Iterative selection:\n",
    "\n",
    "\n",
    "**Univariate statistics** \n",
    "- Check statisticall significance relation between feature and target.\n",
    "- select the one with high confidence\n",
    "\n",
    "Advantage: Very fast to compute, doesnt require building models\n",
    "\n",
    "Disadvantage: Independent of the model\n",
    "\n",
    "** Model-based Feature Selection**\n",
    "- Use a supervised machine learning model to judge the importance of each feature.\n",
    "\n",
    "Advantages: Consider all features at once.\n",
    "\n",
    "**Iterative Feature Selection**\n",
    "A series of models are built with varying number of features. Implemented in Sklearn as [Recursive feature elimination (RFE)](http://scikit-learn.org/stable/modules/generated/sklearn.feature_selection.RFE.html#sklearn.feature_selection.RFE)"
   ]
  },
  {
   "cell_type": "markdown",
   "metadata": {},
   "source": [
    "## 1.2.  Model - based feature Selection : Using **Feature Importance**\n",
    "\n",
    "Using RandomForest Classifier"
   ]
  },
  {
   "cell_type": "code",
   "execution_count": 3,
   "metadata": {
    "collapsed": true
   },
   "outputs": [],
   "source": [
    "# Load the packages for modeling\n",
    "from sklearn.ensemble import RandomForestClassifier"
   ]
  },
  {
   "cell_type": "code",
   "execution_count": 4,
   "metadata": {
    "collapsed": true
   },
   "outputs": [],
   "source": [
    "# Define a classifier\n",
    "rforest = RandomForestClassifier(max_depth=15,n_estimators=70, min_samples_leaf=50,\n",
    "                                  min_samples_split=100, random_state=10)"
   ]
  },
  {
   "cell_type": "code",
   "execution_count": 5,
   "metadata": {},
   "outputs": [
    {
     "data": {
      "text/plain": [
       "Index(['Unnamed: 0', 'pclass', 'survived', 'sex', 'age', 'sibsp', 'parch',\n",
       "       'fare', 'embarked'],\n",
       "      dtype='object')"
      ]
     },
     "execution_count": 5,
     "metadata": {},
     "output_type": "execute_result"
    }
   ],
   "source": [
    "# Prepare Feature and Target\n",
    "data.columns"
   ]
  },
  {
   "cell_type": "code",
   "execution_count": 6,
   "metadata": {
    "collapsed": true
   },
   "outputs": [],
   "source": [
    "feature = ['pclass',  'sex', 'age', 'sibsp', 'parch','fare', 'embarked']"
   ]
  },
  {
   "cell_type": "code",
   "execution_count": 7,
   "metadata": {
    "collapsed": true
   },
   "outputs": [],
   "source": [
    "X = data[feature]\n",
    "y = data.survived"
   ]
  },
  {
   "cell_type": "code",
   "execution_count": 8,
   "metadata": {},
   "outputs": [
    {
     "data": {
      "text/plain": [
       "RandomForestClassifier(bootstrap=True, class_weight=None, criterion='gini',\n",
       "            max_depth=15, max_features='auto', max_leaf_nodes=None,\n",
       "            min_impurity_decrease=0.0, min_impurity_split=None,\n",
       "            min_samples_leaf=50, min_samples_split=100,\n",
       "            min_weight_fraction_leaf=0.0, n_estimators=70, n_jobs=1,\n",
       "            oob_score=False, random_state=10, verbose=0, warm_start=False)"
      ]
     },
     "execution_count": 8,
     "metadata": {},
     "output_type": "execute_result"
    }
   ],
   "source": [
    "# Fit the model\n",
    "rforest.fit(X,y)"
   ]
  },
  {
   "cell_type": "code",
   "execution_count": 9,
   "metadata": {},
   "outputs": [
    {
     "data": {
      "image/png": "[encoded data removed]",
      "text/plain": [
       "<matplotlib.figure.Figure at 0x7f567bed5f28>"
      ]
     },
     "metadata": {},
     "output_type": "display_data"
    }
   ],
   "source": [
    "# Plot the important features\n",
    "imp_feat_rf = pd.Series(rforest.feature_importances_, index=X.columns).sort_values(ascending=False)\n",
    "imp_feat_rf.plot(kind='bar', title='Feature Importance with Random Forest', figsize=(10,6),color='g')\n",
    "plt.ylabel('Feature Importance values')\n",
    "plt.subplots_adjust(bottom=0.25)"
   ]
  },
  {
   "cell_type": "markdown",
   "metadata": {},
   "source": [
    "## 1.3 Model - based feature Selection : Using **SelectFromModel**"
   ]
  },
  {
   "cell_type": "code",
   "execution_count": 10,
   "metadata": {
    "collapsed": true
   },
   "outputs": [],
   "source": [
    "from sklearn.feature_selection import SelectFromModel\n",
    "\n",
    "select = SelectFromModel(RandomForestClassifier(n_estimators=100, random_state=42) , threshold=\"median\")"
   ]
  },
  {
   "cell_type": "code",
   "execution_count": 11,
   "metadata": {},
   "outputs": [
    {
     "data": {
      "text/plain": [
       "SelectFromModel(estimator=RandomForestClassifier(bootstrap=True, class_weight=None, criterion='gini',\n",
       "            max_depth=None, max_features='auto', max_leaf_nodes=None,\n",
       "            min_impurity_decrease=0.0, min_impurity_split=None,\n",
       "            min_samples_leaf=1, min_samples_split=2,\n",
       "            min_weight_fraction_leaf=0.0, n_estimators=100, n_jobs=1,\n",
       "            oob_score=False, random_state=42, verbose=0, warm_start=False),\n",
       "        norm_order=1, prefit=False, threshold='median')"
      ]
     },
     "execution_count": 11,
     "metadata": {},
     "output_type": "execute_result"
    }
   ],
   "source": [
    "select.fit(X,y)"
   ]
  },
  {
   "cell_type": "code",
   "execution_count": 12,
   "metadata": {},
   "outputs": [
    {
     "name": "stdout",
     "output_type": "stream",
     "text": [
      "Original features (1309, 7)\n",
      "Selected features (1309, 4)\n"
     ]
    }
   ],
   "source": [
    "X_features = select.transform(X)\n",
    "print('Original features', X.shape)\n",
    "print('Selected features', X_features.shape)"
   ]
  },
  {
   "cell_type": "markdown",
   "metadata": {},
   "source": [
    "Print the selected features"
   ]
  },
  {
   "cell_type": "code",
   "execution_count": 13,
   "metadata": {},
   "outputs": [
    {
     "name": "stdout",
     "output_type": "stream",
     "text": [
      "pclass\n",
      "sex\n",
      "age\n",
      "fare\n"
     ]
    }
   ],
   "source": [
    "for feature_list_index in select.get_support(indices=True):\n",
    "    print(feature[feature_list_index])"
   ]
  },
  {
   "cell_type": "markdown",
   "metadata": {},
   "source": [
    "Feature selected are: pclass, Sex, age and fare"
   ]
  },
  {
   "cell_type": "markdown",
   "metadata": {},
   "source": [
    "## 2 Evaluate the Performance of Machine Learning Algorithms\n",
    "\n",
    "**Motivation**: Need a way to choose between machine learning models\n",
    "- Goal is to estimate likely performance of a model on out-of-sample data\n",
    "\n",
    "The evaluation is an estimate that we can use to talk about how well we think the algorithm may actually do in practice. It is not a guarantee of performance.\n",
    "\n",
    "Once we estimate the performance of our algorithm, we can then re-train the final algorithm on the entire training dataset and get it ready for operational use.\n",
    "\n",
    "Several approach:\n",
    "- Train/test split\n",
    "- Cross validation"
   ]
  },
  {
   "cell_type": "markdown",
   "metadata": {},
   "source": [
    "## 2.1 Train/test split\n",
    "\n",
    "- Split the dataset into two pieces, so that the model can be trained and tested on different data.\n",
    "- The simplest method that we can use to evaluate the performance of a machine learning algorithm.\n",
    "   - Take yur original dataset, split it into two parts. \n",
    "   - Train the algorithm on the first part, make predictions on the second part and evaluate the predictions against the expected results.\n",
    "- The size of the split can depend on the size and specifics of your dataset, although it is common to use 75% of the data for training and the remaining 25% for testing.  \n",
    "\n",
    "\n",
    "**Advantage**\n",
    "- is very fast. It is ideal for large datasets\n",
    "- use this approach when the algorithm you are investigating is slow to train.\n",
    "\n",
    "**Problem with train/test split**\n",
    "- It provides a high variance estimate since changing which observations happen to be in the testing set can significantly change testing accuracy\n",
    "- Testing accuracy can change a lot depending on a which observation happen to be in the testing set\n",
    "   "
   ]
  },
  {
   "cell_type": "markdown",
   "metadata": {},
   "source": [
    "## 2. 2 Cross validation\n",
    "- Statistical method for evaluating how well a given algorithm will generalize when trained on a specific data set.\n",
    "-  An approach that you can use to estimate the performance of a machine learning algorithm with less variance than a single train-test set split.\n",
    "- In cross validation we split the data repetedely and train a multiple models.\n",
    "\n",
    "\n",
    "**Advantages of cross-validation**:\n",
    "- More accurate estimate of out-of-sample accuracy\n",
    "- More \"efficient\" use of data\n",
    "   - This is because every observation is used for both training and testing\n",
    "\n",
    "\n",
    "\n",
    "**Types of cross-validation**\n",
    "\n",
    "- K-fold cross validation\n",
    "- Startified K-fold cross validation\n",
    "- Leave-one-out cross validation\n"
   ]
  },
  {
   "cell_type": "markdown",
   "metadata": {},
   "source": [
    "### 2.1.1 K-fold cross validation\n",
    "- It works by splitting the dataset into k-parts (e.g. k=5 or k=10). \n",
    "- Each split of the data is called a fold. \n",
    "- The algorithm is trained on k-1 folds with one held back and tested on the held back fold. \n",
    "- This is repeated so that each fold of the dataset is given a chance to be the held back test set.\n",
    "- After running cross validation you end up with k different performance scores that you can summarize using a mean .\n",
    "\n",
    "**Note**: K can be any number, but K=10 is generally recommended\n",
    "- This has been shown experimentally to produce the best out-of-sample estimate"
   ]
  },
  {
   "cell_type": "markdown",
   "metadata": {},
   "source": [
    "### 2.1.2 Startified K-fold cross validation\n",
    "\n",
    "- In stratified k-fold cross-validation, the folds are selected so that the mean response value is approximately equal in all the folds. \n",
    "- In the case of a dichotomous classification, this means that each fold contains roughly the same proportions of the two types of class labels"
   ]
  },
  {
   "cell_type": "markdown",
   "metadata": {},
   "source": [
    "### 2.1.3 Leave-one-out cross validation\n",
    "\n",
    "- Leave-one-out is the degenerate case of K-Fold Cross Validation, where K is chosen as the total number of examples\n",
    "- For a dataset with N examples, perform N experiments\n",
    "- For each experiment use N-1 examples for training and the remaining example for testing"
   ]
  },
  {
   "cell_type": "markdown",
   "metadata": {},
   "source": [
    "## 2.2 Motivation for Cross Valiadtion\n",
    "\n",
    "Validation techniques are motivated by two fundamental problems in ML.\n",
    "\n",
    "- Model selection and tuning: How do we select the “optimal” parameter(s) or model for a given\n",
    "classification problem?\n",
    "- Performance estimation: Once we have chosen a model, how do we estimate its performance?"
   ]
  },
  {
   "cell_type": "markdown",
   "metadata": {},
   "source": [
    "\n",
    "## 2. 3 Evaluation Metrics \n",
    "\n",
    "**Classification Metrics**\n",
    "- Accuracy: the number of correct predictions made as a ratio of all predictions made.\n",
    "- Confusion matrix: a handy presentation of the accuracy of a model with two or more classes.\n",
    "- Precision:\n",
    "- Recall:\n",
    "- F-score:\n",
    "\n",
    "**Regression Metrics**\n",
    "- Mean Absolute Error\n",
    "- Mean Squared Error\n",
    "\n",
    "\n",
    "[link](http://scikit-learn.org/stable/modules/model_evaluation.html)"
   ]
  },
  {
   "cell_type": "markdown",
   "metadata": {},
   "source": [
    "## 2.4 Three-way data splits\n",
    "If model selection and true error estimates are to be computed simultaneously, the data needs to be divided into three disjoint sets.\n",
    "\n",
    "- **Training set**: a set of examples used for learning: to fit the parameters of the classifier.\n",
    "- **Validation set**: a set of examples used to tune the parameters of of a classifier.\n",
    "- **Test set**: a set of examples used only to assess the performance of a fully-trained classifier.\n",
    "\n",
    "Note: After assessing the final model with the test set, YOU MUST NOT further\n",
    "tune the mode"
   ]
  },
  {
   "cell_type": "markdown",
   "metadata": {},
   "source": [
    "## 2.5 Practical Procedure\n",
    "1. Divide the available data into training, validation and test set\n",
    "2. Select architecture and training parameters\n",
    "3. Train the model using the training set\n",
    "4. Evaluate the model using the validation set\n",
    "5. Repeat steps 2 through 4 using different architectures and training parameters\n",
    "6. Select the best model and train it using data from the training and validation set\n",
    "7. Assess this final model using the test set "
   ]
  },
  {
   "cell_type": "markdown",
   "metadata": {},
   "source": [
    "## 3 Model Selection\n",
    "\n",
    "How do you choose the best model for your problem?\n",
    "\n",
    "When you work on a machine learning project, you often end up with multiple good models to choose from. Each model will have different performance characteristics.\n",
    "\n",
    "Using resampling methods like cross validation to evaluate and select the best model.\n"
   ]
  },
  {
   "cell_type": "code",
   "execution_count": 23,
   "metadata": {
    "collapsed": true
   },
   "outputs": [],
   "source": [
    "from sklearn.neighbors import KNeighborsClassifier\n",
    "from sklearn.naive_bayes import GaussianNB\n",
    "from sklearn.linear_model import LogisticRegression\n",
    "from sklearn import tree\n",
    "from sklearn.svm import SVC\n",
    "from sklearn.ensemble import RandomForestClassifier, AdaBoostClassifier\n",
    "from sklearn.neural_network import MLPClassifier\n",
    "from sklearn.discriminant_analysis import QuadraticDiscriminantAnalysis as QDA \n",
    "from sklearn.discriminant_analysis import LinearDiscriminantAnalysis as LDA\n",
    "from sklearn import model_selection\n",
    "from sklearn.model_selection import train_test_split\n",
    "from sklearn.metrics import f1_score, accuracy_score\n",
    "from time import time"
   ]
  },
  {
   "cell_type": "code",
   "execution_count": 26,
   "metadata": {},
   "outputs": [],
   "source": [
    "feature = ['pclass',  'sex', 'age','fare']\n",
    "X = data[feature]\n",
    "y = data.survived"
   ]
  },
  {
   "cell_type": "code",
   "execution_count": 16,
   "metadata": {},
   "outputs": [],
   "source": [
    "def classifiers(X_train,y_train, score='f1'):\n",
    "    knn     =  KNeighborsClassifier()\n",
    "    svm     = SVC()\n",
    "    gnb     =  GaussianNB()\n",
    "    log     =  LogisticRegression()\n",
    "    dTree   =  tree.DecisionTreeClassifier()\n",
    "    rForest =  RandomForestClassifier()\n",
    "    mlp     =  MLPClassifier()\n",
    "    adboost = AdaBoostClassifier()\n",
    "    lda     = LDA(solver='lsqr', shrinkage='auto')\n",
    "    qda     = QDA()\n",
    "    \n",
    "    model_names = [\"Nearest Neighbors\",\n",
    "                   \"Support Vector Machine\",\n",
    "                   \"Naive Bayes\",\n",
    "                   \"Logistic\",\n",
    "                   \"Decision Tree\",\n",
    "                   \"Random Forest\",\n",
    "                   \"MLP\",\n",
    "                   \"AdaBoost\",\n",
    "                   \"LDA\",\n",
    "                   \"QDA\"]\n",
    "    models = [knn,svm, gnb, log, dTree, rForest, mlp,adboost,lda,qda]\n",
    "     \n",
    " \n",
    "    avg_results = []\n",
    "    model_time =  []\n",
    "    \n",
    "    for (i,model) in enumerate(models):\n",
    "      \n",
    "        skfold = model_selection.StratifiedKFold(n_splits=10)\n",
    "        start = time()\n",
    "        cv_results = model_selection.cross_val_score(model, X_train, y_train, cv=skfold, scoring=score)\n",
    "        end = time()\n",
    "        avg_results.append(cv_results.mean())\n",
    "        msg = \"%s: %f\" % (model_names[i], cv_results.mean())\n",
    "        print(msg)\n",
    "        model_time.append((end - start))\n",
    "        \n",
    "    return avg_results, model_names,  model_time   "
   ]
  },
  {
   "cell_type": "code",
   "execution_count": 29,
   "metadata": {},
   "outputs": [
    {
     "name": "stdout",
     "output_type": "stream",
     "text": [
      "Nearest Neighbors: 0.478656\n",
      "Support Vector Machine: 0.443737\n",
      "Naive Bayes: 0.680994\n",
      "Logistic: 0.684824\n",
      "Decision Tree: 0.623877\n",
      "Random Forest: 0.644404\n",
      "MLP: 0.518486\n",
      "AdaBoost: 0.652721\n",
      "LDA: 0.686187\n",
      "QDA: 0.570519\n"
     ]
    }
   ],
   "source": [
    "result, names,  model_time  = classifiers(X,y)"
   ]
  },
  {
   "cell_type": "code",
   "execution_count": 18,
   "metadata": {
    "collapsed": true
   },
   "outputs": [],
   "source": [
    "def plotbar(plot_name, names, result,title,ylabel):\n",
    "    postion = np.arange(len(names))\n",
    "    plt.bar(postion, result, align='center', color ='g')\n",
    "    plt.xticks(postion, names, rotation=90)\n",
    "    plt.ylabel(ylabel)\n",
    "    plt.ylim(0,1)\n",
    "    plt.title(title)\n",
    "    #plt.savefig('image/%s.pdf' %(plot_name), format='pdf')"
   ]
  },
  {
   "cell_type": "code",
   "execution_count": 19,
   "metadata": {},
   "outputs": [
    {
     "data": {
      "image/png": "[encoded data removed]",
      "text/plain": [
       "<matplotlib.figure.Figure at 0x7f5677fcdcc0>"
      ]
     },
     "metadata": {},
     "output_type": "display_data"
    }
   ],
   "source": [
    "plotbar(\"avg_score\", names, result, \"F-1 Score Performance\", \"F-Score \\n (Higher is better)\")"
   ]
  },
  {
   "cell_type": "code",
   "execution_count": 27,
   "metadata": {},
   "outputs": [
    {
     "data": {
      "image/png": "[encoded data removed]",
      "text/plain": [
       "<matplotlib.figure.Figure at 0x7f5677a47978>"
      ]
     },
     "metadata": {},
     "output_type": "display_data"
    }
   ],
   "source": [
    "plotbar(\"avg_score\", names, model_time, \"Model Training Time\", \"Time (s)\")"
   ]
  },
  {
   "cell_type": "markdown",
   "metadata": {
    "collapsed": true
   },
   "source": [
    "From the above experiment, will consider Random Forest and KNN models in the next experiment."
   ]
  }
 ],
 "metadata": {
  "kernelspec": {
   "display_name": "Python 3",
   "language": "python",
   "name": "python3"
  },
  "language_info": {
   "codemirror_mode": {
    "name": "ipython",
    "version": 3
   },
   "file_extension": ".py",
   "mimetype": "text/x-python",
   "name": "python",
   "nbconvert_exporter": "python",
   "pygments_lexer": "ipython3",
   "version": "3.6.0"
  }
 },
 "nbformat": 4,
 "nbformat_minor": 2
}
