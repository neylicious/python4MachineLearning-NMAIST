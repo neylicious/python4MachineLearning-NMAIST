{
 "cells": [
  {
   "cell_type": "code",
   "execution_count": 1,
   "metadata": {
    "collapsed": true
   },
   "outputs": [],
   "source": [
    "import numpy as np\n",
    "import pandas as pd\n",
    "import matplotlib.pyplot as plt\n",
    "%matplotlib inline\n",
    "\n",
    "# Set the style globally\n",
    "# Alternatives include bmh, fivethirtyeight, ggplot,\n",
    "# dark_background, seaborn-deep, etc\n",
    "plt.style.use('seaborn-white')\n",
    "plt.rcParams['font.family'] = 'serif'\n",
    "plt.rcParams['font.serif'] = 'Ubuntu'\n",
    "plt.rcParams['font.monospace'] = 'Ubuntu Mono'\n",
    "plt.rcParams['font.size'] = 10\n",
    "plt.rcParams['axes.labelsize'] = 10\n",
    "plt.rcParams['axes.labelweight'] = 'bold'\n",
    "plt.rcParams['xtick.labelsize'] = 10\n",
    "plt.rcParams['ytick.labelsize'] = 10\n",
    "plt.rcParams['legend.fontsize'] = 10\n",
    "plt.rcParams['figure.titlesize'] = 12\n",
    "plt.rcParams['figure.figsize'] = 8, 6"
   ]
  },
  {
   "cell_type": "code",
   "execution_count": 2,
   "metadata": {
    "collapsed": true
   },
   "outputs": [],
   "source": [
    "#load cleaned data\n",
    "data = pd.read_csv('data/clean_titanic.csv')"
   ]
  },
  {
   "cell_type": "markdown",
   "metadata": {},
   "source": [
    "# 1. Automatic Feature Selection\n",
    "\n",
    "Feature selection is a process where you automatically select those features in your data that contribute most to the prediction variable or output in which you are interested.\n",
    "\n",
    "Having too many irrelevant features in your data can decrease the accuracy of the models. \n",
    "\n",
    "Three benefits of performing feature selection before modeling your data are:\n",
    "\n",
    "* Reduces Overfitting: Less redundant data means less opportunity to make decisions based on noise.\n",
    "* Improves Accuracy: Less misleading data means modeling accuracy improves.\n",
    "* Reduces Training Time: Less data means that algorithms train faster.\n",
    "\n",
    "You can use the following approach\n",
    "\n",
    "- Univariate statistics: Check statisticall significance relation between feature and target\n",
    "- Model-base selection:\n",
    "- Iterative selection:\n",
    "\n",
    "\n",
    "**Univariate statistics** \n",
    "- Check statisticall significance relation between feature and target.\n",
    "- select the one with high confidence\n",
    "\n",
    "Advantage: Very fast to compute, doesnt require building models\n",
    "\n",
    "Disadvantage: Independent of the model\n",
    "\n",
    "** Model-based Feature Selection**\n",
    "- Use a supervised machine learning model to judge the importance of each feature.\n",
    "\n",
    "Advantages: Consider all features at once.\n",
    "\n",
    "**Iterative Feature Selection**\n",
    "A series of models are built with varying number of features. Implemented in Sklearn as [Recursive feature elimination (RFE)](http://scikit-learn.org/stable/modules/generated/sklearn.feature_selection.RFE.html#sklearn.feature_selection.RFE)"
   ]
  },
  {
   "cell_type": "markdown",
   "metadata": {},
   "source": [
    "## 1.2.  Model - based feature Selection : Using **Feature Importance**\n",
    "\n",
    "Using RandomForest Classifier"
   ]
  },
  {
   "cell_type": "code",
   "execution_count": 4,
   "metadata": {
    "collapsed": true
   },
   "outputs": [],
   "source": [
    "# Load the packages for modeling\n",
    "from sklearn.ensemble import RandomForestClassifier"
   ]
  },
  {
   "cell_type": "code",
   "execution_count": 5,
   "metadata": {
    "collapsed": true
   },
   "outputs": [],
   "source": [
    "# Define a classifier\n",
    "rforest = RandomForestClassifier(max_depth=15,n_estimators=70, min_samples_leaf=50,\n",
    "                                  min_samples_split=100, random_state=10)"
   ]
  },
  {
   "cell_type": "code",
   "execution_count": 9,
   "metadata": {},
   "outputs": [
    {
     "data": {
      "text/plain": [
       "Index(['Unnamed: 0', 'pclass', 'survived', 'sex', 'age', 'sibsp', 'parch',\n",
       "       'fare', 'embarked'],\n",
       "      dtype='object')"
      ]
     },
     "execution_count": 9,
     "metadata": {},
     "output_type": "execute_result"
    }
   ],
   "source": [
    "# Prepare Feature and Target\n",
    "data.columns"
   ]
  },
  {
   "cell_type": "code",
   "execution_count": 7,
   "metadata": {
    "collapsed": true
   },
   "outputs": [],
   "source": [
    "feature = ['pclass',  'sex', 'age', 'sibsp', 'parch','fare', 'embarked']"
   ]
  },
  {
   "cell_type": "code",
   "execution_count": 10,
   "metadata": {
    "collapsed": true
   },
   "outputs": [],
   "source": [
    "X = data[feature]\n",
    "y = data.survived"
   ]
  },
  {
   "cell_type": "code",
   "execution_count": 11,
   "metadata": {},
   "outputs": [
    {
     "data": {
      "text/plain": [
       "RandomForestClassifier(bootstrap=True, class_weight=None, criterion='gini',\n",
       "            max_depth=15, max_features='auto', max_leaf_nodes=None,\n",
       "            min_impurity_decrease=0.0, min_impurity_split=None,\n",
       "            min_samples_leaf=50, min_samples_split=100,\n",
       "            min_weight_fraction_leaf=0.0, n_estimators=70, n_jobs=1,\n",
       "            oob_score=False, random_state=10, verbose=0, warm_start=False)"
      ]
     },
     "execution_count": 11,
     "metadata": {},
     "output_type": "execute_result"
    }
   ],
   "source": [
    "# Fit the model\n",
    "rforest.fit(X,y)"
   ]
  },
  {
   "cell_type": "code",
   "execution_count": 12,
   "metadata": {},
   "outputs": [
    {
     "data": {
      "image/png": "[encoded data removed]",
      "text/plain": [
       "<matplotlib.figure.Figure at 0x7fc36e345860>"
      ]
     },
     "metadata": {},
     "output_type": "display_data"
    }
   ],
   "source": [
    "# Plot the important features\n",
    "imp_feat_rf = pd.Series(rforest.feature_importances_, index=X.columns).sort_values(ascending=False)\n",
    "imp_feat_rf.plot(kind='bar', title='Feature Importance with Random Forest', figsize=(10,6),color='g')\n",
    "plt.ylabel('Feature Importance values')\n",
    "plt.subplots_adjust(bottom=0.25)"
   ]
  },
  {
   "cell_type": "markdown",
   "metadata": {},
   "source": [
    "## 1.3 Model - based feature Selection : Using **SelectFromModel**"
   ]
  },
  {
   "cell_type": "code",
   "execution_count": 13,
   "metadata": {
    "collapsed": true
   },
   "outputs": [],
   "source": [
    "from sklearn.feature_selection import SelectFromModel\n",
    "\n",
    "select = SelectFromModel(RandomForestClassifier(n_estimators=100, random_state=42) , threshold=\"median\")"
   ]
  },
  {
   "cell_type": "code",
   "execution_count": 14,
   "metadata": {},
   "outputs": [
    {
     "data": {
      "text/plain": [
       "SelectFromModel(estimator=RandomForestClassifier(bootstrap=True, class_weight=None, criterion='gini',\n",
       "            max_depth=None, max_features='auto', max_leaf_nodes=None,\n",
       "            min_impurity_decrease=0.0, min_impurity_split=None,\n",
       "            min_samples_leaf=1, min_samples_split=2,\n",
       "            min_weight_fraction_leaf=0.0, n_estimators=100, n_jobs=1,\n",
       "            oob_score=False, random_state=42, verbose=0, warm_start=False),\n",
       "        norm_order=1, prefit=False, threshold='median')"
      ]
     },
     "execution_count": 14,
     "metadata": {},
     "output_type": "execute_result"
    }
   ],
   "source": [
    "select.fit(X,y)"
   ]
  },
  {
   "cell_type": "code",
   "execution_count": 15,
   "metadata": {},
   "outputs": [
    {
     "name": "stdout",
     "output_type": "stream",
     "text": [
      "Original features (1309, 7)\n",
      "Selected features (1309, 4)\n"
     ]
    }
   ],
   "source": [
    "X_features = select.transform(X)\n",
    "print('Original features', X.shape)\n",
    "print('Selected features', X_features.shape)"
   ]
  },
  {
   "cell_type": "markdown",
   "metadata": {},
   "source": [
    "Print the selected features"
   ]
  },
  {
   "cell_type": "code",
   "execution_count": 16,
   "metadata": {},
   "outputs": [
    {
     "name": "stdout",
     "output_type": "stream",
     "text": [
      "pclass\n",
      "sex\n",
      "age\n",
      "fare\n"
     ]
    }
   ],
   "source": [
    "for feature_list_index in select.get_support(indices=True):\n",
    "    print(feature[feature_list_index])"
   ]
  },
  {
   "cell_type": "markdown",
   "metadata": {},
   "source": [
    "Feature selected are: pclass, Sex, age and fare"
   ]
  },
  {
   "cell_type": "markdown",
   "metadata": {},
   "source": [
    "## 2. Model Selection\n",
    "\n",
    "How do you choose the best model for your problem?\n",
    "\n",
    "When you work on a machine learning project, you often end up with multiple good models to choose from. Each model will have different performance characteristics.\n",
    "\n",
    "Using resampling methods like cross validation to evaluate and select the best model.\n",
    "\n",
    "## 2. 1 Cross validation\n",
    "Statistical method for evaluating how well a given algorithm will generalize when trained on a specific data set.\n",
    "\n",
    "In cross validation we split the data repetedely and train a multiple models.\n",
    "\n",
    "**Types of cross-validation**\n",
    "\n",
    "- K-fold cross validation\n",
    "- Startified K-fold cross validation\n",
    "- Leave-one-out cross validation\n",
    "- Shaffle-split cross validation\n",
    "\n",
    "\n",
    "## 2. 2 Evaluation Metrics \n",
    "- Accuracy\n",
    "- Confusion matrix\n",
    "- Precision\n",
    "- Recall\n",
    "- F-score"
   ]
  },
  {
   "cell_type": "code",
   "execution_count": 17,
   "metadata": {
    "collapsed": true
   },
   "outputs": [],
   "source": [
    "from sklearn.neighbors import KNeighborsClassifier\n",
    "from sklearn.naive_bayes import GaussianNB\n",
    "from sklearn.linear_model import LogisticRegression\n",
    "from sklearn import tree\n",
    "from sklearn.ensemble import RandomForestClassifier, AdaBoostClassifier\n",
    "from sklearn.neural_network import MLPClassifier\n",
    "from sklearn.discriminant_analysis import QuadraticDiscriminantAnalysis as QDA \n",
    "from sklearn.discriminant_analysis import LinearDiscriminantAnalysis as LDA\n",
    "from sklearn import model_selection\n",
    "from sklearn.model_selection import train_test_split\n",
    "from sklearn.metrics import f1_score, accuracy_score\n",
    "from time import time"
   ]
  },
  {
   "cell_type": "code",
   "execution_count": 23,
   "metadata": {
    "collapsed": true
   },
   "outputs": [],
   "source": [
    "from sklearn.model_selection import train_test_split\n",
    "feature = ['pclass',  'sex', 'age','fare']\n",
    "X = data[feature]\n",
    "y = data.survived\n",
    "X_train, X_test, y_train, y_test = train_test_split(X, y,\n",
    "                                                    test_size=0.20,\n",
    "                                                    random_state=1234)"
   ]
  },
  {
   "cell_type": "code",
   "execution_count": 42,
   "metadata": {
    "collapsed": true
   },
   "outputs": [],
   "source": [
    "def classifiers(X_train,y_train, X_test, y_test, score='f1'):\n",
    "    knn     =  KNeighborsClassifier()\n",
    "    gnb     =  GaussianNB()\n",
    "    log     =  LogisticRegression()\n",
    "    dTree   =  tree.DecisionTreeClassifier()\n",
    "    rForest =  RandomForestClassifier()\n",
    "    mlp     =  MLPClassifier()\n",
    "    adboost = AdaBoostClassifier()\n",
    "    lda     = LDA(solver='lsqr', shrinkage='auto')\n",
    "    qda     = QDA()\n",
    "    \n",
    "    model_names = [\"Nearest Neighbors\",\n",
    "                   \"Naive Bayes\",\n",
    "                   \"Logistic\",\n",
    "                   \"Decision Tree\",\n",
    "                   \"Random Forest\",\n",
    "                   \"MLP\",\n",
    "                   \"AdaBoost\",\n",
    "                   \"LDA\",\n",
    "                   \"QDA\"]\n",
    "    models = [knn, gnb, log, dTree, rForest, mlp,adboost,lda,qda]\n",
    "     \n",
    "    name= []\n",
    "    results=[]\n",
    "    avg_results = []\n",
    "    f_score_test= []\n",
    "    acc_test = []\n",
    "    model_time = []\n",
    "    for (i,model) in enumerate(models):\n",
    "      \n",
    "        skfold = model_selection.StratifiedKFold(n_splits=10)\n",
    "        start = time()\n",
    "        cv_results = model_selection.cross_val_score(model, X_train, y_train, cv=skfold, scoring=score)\n",
    "        end = time()\n",
    "        results.append(cv_results)\n",
    "        avg_results.append(cv_results.mean())\n",
    "        msg = \"%s: %f\" % (model_names[i], cv_results.mean())\n",
    "        print(msg)\n",
    "        \n",
    "        print(\"Run test perfomance\")\n",
    "        model.fit(X_train, y_train)\n",
    "        y_p = model.predict(X_test)\n",
    "        f_score = f1_score(y_test, y_p)\n",
    "        f_score_test.append(f_score)\n",
    "        acc  = accuracy_score(y_test,y_p)\n",
    "        acc_test.append(acc)\n",
    "        model_time.append((end - start))\n",
    "        \n",
    "    return avg_results, model_names, f_score_test, acc_test, model_time   "
   ]
  },
  {
   "cell_type": "code",
   "execution_count": 27,
   "metadata": {},
   "outputs": [
    {
     "name": "stdout",
     "output_type": "stream",
     "text": [
      "Nearest Neighbors: 0.579375\n",
      "Run test perfomance\n",
      "Naive Bayes: 0.702412\n",
      "Run test perfomance\n",
      "Logistic: 0.703763\n",
      "Run test perfomance\n",
      "Decision Tree: 0.678769\n",
      "Run test perfomance\n",
      "Random Forest: 0.705086\n",
      "Run test perfomance\n",
      "MLP: 0.575528\n",
      "Run test perfomance\n",
      "AdaBoost: 0.707315\n",
      "Run test perfomance\n",
      "LDA: 0.703806\n",
      "Run test perfomance\n",
      "QDA: 0.666281\n",
      "Run test perfomance\n"
     ]
    }
   ],
   "source": [
    "result, names, f_score_test, acc_test, model_time  = classifiers(X_train,y_train,X_test,y_test)"
   ]
  },
  {
   "cell_type": "code",
   "execution_count": 37,
   "metadata": {
    "collapsed": true
   },
   "outputs": [],
   "source": [
    "def plotbar(plot_name, names, result,title,ylabel):\n",
    "    postion = np.arange(len(names))\n",
    "    plt.bar(postion, result, align='center', color ='g')\n",
    "    plt.xticks(postion, names, rotation=90)\n",
    "    plt.ylabel(ylabel)\n",
    "    #plt.ylim(0,1)\n",
    "    plt.title(title)\n",
    "    #plt.savefig('image/%s.pdf' %(plot_name), format='pdf')\n",
    "    "
   ]
  },
  {
   "cell_type": "code",
   "execution_count": 35,
   "metadata": {},
   "outputs": [
    {
     "data": {
      "image/png": "[encoded data removed]",
      "text/plain": [
       "<matplotlib.figure.Figure at 0x7fc369687588>"
      ]
     },
     "metadata": {},
     "output_type": "display_data"
    }
   ],
   "source": [
    "plotbar(\"avg_score\", names, result, \"F-1 Score Performance\", \"F-Score \\n (Higher is better)\")"
   ]
  },
  {
   "cell_type": "code",
   "execution_count": 41,
   "metadata": {},
   "outputs": [
    {
     "data": {
      "image/png": "[encoded data removed]",
      "text/plain": [
       "<matplotlib.figure.Figure at 0x7fc369dfea90>"
      ]
     },
     "metadata": {},
     "output_type": "display_data"
    }
   ],
   "source": [
    "time = np.array(model_time) * -1\n",
    "plotbar(\"Time_perfomance\", names, time, \"Model time Performance\", \"Time (s)\")"
   ]
  },
  {
   "cell_type": "markdown",
   "metadata": {
    "collapsed": true
   },
   "source": [
    "From the above experiment, will consider Random Forest and KNN models in the next experiment."
   ]
  }
 ],
 "metadata": {
  "kernelspec": {
   "display_name": "Python 3",
   "language": "python",
   "name": "python3"
  },
  "language_info": {
   "codemirror_mode": {
    "name": "ipython",
    "version": 3
   },
   "file_extension": ".py",
   "mimetype": "text/x-python",
   "name": "python",
   "nbconvert_exporter": "python",
   "pygments_lexer": "ipython3",
   "version": "3.6.1"
  }
 },
 "nbformat": 4,
 "nbformat_minor": 2
}
